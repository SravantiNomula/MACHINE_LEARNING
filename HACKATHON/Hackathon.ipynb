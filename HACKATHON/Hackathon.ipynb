{
 "cells": [
  {
   "cell_type": "code",
   "execution_count": 88,
   "metadata": {},
   "outputs": [],
   "source": [
    "\n",
    "# Ignoring all warnings throughout the notebook\n",
    "import warnings\n",
    "warnings.filterwarnings('ignore')"
   ]
  },
  {
   "cell_type": "code",
   "execution_count": 89,
   "metadata": {},
   "outputs": [
    {
     "data": {
      "text/plain": [
       "'0.21.2'"
      ]
     },
     "execution_count": 89,
     "metadata": {},
     "output_type": "execute_result"
    }
   ],
   "source": [
    "import re\n",
    "import numpy as np\n",
    "import matplotlib.pyplot as plt\n",
    "%matplotlib inline\n",
    "import pandas as pd\n",
    "import seaborn as sns\n",
    "import xgboost as xgb\n",
    "\n",
    "from collections import Counter\n",
    "import sklearn\n",
    "\n",
    "# Scikit-learn libraries for model building\n",
    "from sklearn.linear_model import LogisticRegression\n",
    "from sklearn.naive_bayes import MultinomialNB\n",
    "from sklearn.tree import DecisionTreeClassifier\n",
    "from sklearn.ensemble import RandomForestClassifier\n",
    "from sklearn.decomposition import PCA\n",
    "\n",
    "# Scikit-learn libraries for evaluation\n",
    "from sklearn.metrics import confusion_matrix\n",
    "from sklearn.metrics import log_loss\n",
    "from sklearn import metrics\n",
    "from sklearn.metrics import classification_report\n",
    "from sklearn.model_selection import KFold\n",
    "from sklearn.model_selection import StratifiedKFold\n",
    "from sklearn.model_selection import GridSearchCV\n",
    "from sklearn.model_selection import train_test_split\n",
    "from sklearn.model_selection import *\n",
    "\n",
    "\n",
    "sklearn.__version__"
   ]
  },
  {
   "cell_type": "code",
   "execution_count": 90,
   "metadata": {},
   "outputs": [
    {
     "data": {
      "text/html": [
       "<div>\n",
       "<style scoped>\n",
       "    .dataframe tbody tr th:only-of-type {\n",
       "        vertical-align: middle;\n",
       "    }\n",
       "\n",
       "    .dataframe tbody tr th {\n",
       "        vertical-align: top;\n",
       "    }\n",
       "\n",
       "    .dataframe thead th {\n",
       "        text-align: right;\n",
       "    }\n",
       "</style>\n",
       "<table border=\"1\" class=\"dataframe\">\n",
       "  <thead>\n",
       "    <tr style=\"text-align: right;\">\n",
       "      <th></th>\n",
       "      <th>AnimalID</th>\n",
       "      <th>Name</th>\n",
       "      <th>DateTime</th>\n",
       "      <th>OutcomeType</th>\n",
       "      <th>OutcomeSubtype</th>\n",
       "      <th>AnimalType</th>\n",
       "      <th>SexuponOutcome</th>\n",
       "      <th>AgeuponOutcome</th>\n",
       "      <th>Breed</th>\n",
       "      <th>Color</th>\n",
       "    </tr>\n",
       "  </thead>\n",
       "  <tbody>\n",
       "    <tr>\n",
       "      <th>0</th>\n",
       "      <td>A671945</td>\n",
       "      <td>Hambone</td>\n",
       "      <td>2014-02-12 18:22:00</td>\n",
       "      <td>Return_to_owner</td>\n",
       "      <td>NaN</td>\n",
       "      <td>Dog</td>\n",
       "      <td>Neutered Male</td>\n",
       "      <td>1 year</td>\n",
       "      <td>Shetland Sheepdog Mix</td>\n",
       "      <td>Brown/White</td>\n",
       "    </tr>\n",
       "    <tr>\n",
       "      <th>1</th>\n",
       "      <td>A656520</td>\n",
       "      <td>Emily</td>\n",
       "      <td>2013-10-13 12:44:00</td>\n",
       "      <td>Euthanasia</td>\n",
       "      <td>Suffering</td>\n",
       "      <td>Cat</td>\n",
       "      <td>Spayed Female</td>\n",
       "      <td>1 year</td>\n",
       "      <td>Domestic Shorthair Mix</td>\n",
       "      <td>Cream Tabby</td>\n",
       "    </tr>\n",
       "    <tr>\n",
       "      <th>2</th>\n",
       "      <td>A686464</td>\n",
       "      <td>Pearce</td>\n",
       "      <td>2015-01-31 12:28:00</td>\n",
       "      <td>Adoption</td>\n",
       "      <td>Foster</td>\n",
       "      <td>Dog</td>\n",
       "      <td>Neutered Male</td>\n",
       "      <td>2 years</td>\n",
       "      <td>Pit Bull Mix</td>\n",
       "      <td>Blue/White</td>\n",
       "    </tr>\n",
       "    <tr>\n",
       "      <th>3</th>\n",
       "      <td>A683430</td>\n",
       "      <td>NaN</td>\n",
       "      <td>2014-07-11 19:09:00</td>\n",
       "      <td>Transfer</td>\n",
       "      <td>Partner</td>\n",
       "      <td>Cat</td>\n",
       "      <td>Intact Male</td>\n",
       "      <td>3 weeks</td>\n",
       "      <td>Domestic Shorthair Mix</td>\n",
       "      <td>Blue Cream</td>\n",
       "    </tr>\n",
       "    <tr>\n",
       "      <th>4</th>\n",
       "      <td>A667013</td>\n",
       "      <td>NaN</td>\n",
       "      <td>2013-11-15 12:52:00</td>\n",
       "      <td>Transfer</td>\n",
       "      <td>Partner</td>\n",
       "      <td>Dog</td>\n",
       "      <td>Neutered Male</td>\n",
       "      <td>2 years</td>\n",
       "      <td>Lhasa Apso/Miniature Poodle</td>\n",
       "      <td>Tan</td>\n",
       "    </tr>\n",
       "  </tbody>\n",
       "</table>\n",
       "</div>"
      ],
      "text/plain": [
       "  AnimalID     Name            DateTime      OutcomeType OutcomeSubtype  \\\n",
       "0  A671945  Hambone 2014-02-12 18:22:00  Return_to_owner            NaN   \n",
       "1  A656520    Emily 2013-10-13 12:44:00       Euthanasia      Suffering   \n",
       "2  A686464   Pearce 2015-01-31 12:28:00         Adoption         Foster   \n",
       "3  A683430      NaN 2014-07-11 19:09:00         Transfer        Partner   \n",
       "4  A667013      NaN 2013-11-15 12:52:00         Transfer        Partner   \n",
       "\n",
       "  AnimalType SexuponOutcome AgeuponOutcome                        Breed  \\\n",
       "0        Dog  Neutered Male         1 year        Shetland Sheepdog Mix   \n",
       "1        Cat  Spayed Female         1 year       Domestic Shorthair Mix   \n",
       "2        Dog  Neutered Male        2 years                 Pit Bull Mix   \n",
       "3        Cat    Intact Male        3 weeks       Domestic Shorthair Mix   \n",
       "4        Dog  Neutered Male        2 years  Lhasa Apso/Miniature Poodle   \n",
       "\n",
       "         Color  \n",
       "0  Brown/White  \n",
       "1  Cream Tabby  \n",
       "2   Blue/White  \n",
       "3   Blue Cream  \n",
       "4          Tan  "
      ]
     },
     "execution_count": 90,
     "metadata": {},
     "output_type": "execute_result"
    }
   ],
   "source": [
    "\n",
    "data = pd.read_csv(\"train.csv\", parse_dates=['DateTime'])\n",
    "data.head()"
   ]
  },
  {
   "cell_type": "code",
   "execution_count": 91,
   "metadata": {},
   "outputs": [
    {
     "data": {
      "text/plain": [
       "(26729, 10)"
      ]
     },
     "execution_count": 91,
     "metadata": {},
     "output_type": "execute_result"
    }
   ],
   "source": [
    "data.shape"
   ]
  },
  {
   "cell_type": "code",
   "execution_count": 92,
   "metadata": {},
   "outputs": [
    {
     "data": {
      "text/html": [
       "<div>\n",
       "<style scoped>\n",
       "    .dataframe tbody tr th:only-of-type {\n",
       "        vertical-align: middle;\n",
       "    }\n",
       "\n",
       "    .dataframe tbody tr th {\n",
       "        vertical-align: top;\n",
       "    }\n",
       "\n",
       "    .dataframe thead th {\n",
       "        text-align: right;\n",
       "    }\n",
       "</style>\n",
       "<table border=\"1\" class=\"dataframe\">\n",
       "  <thead>\n",
       "    <tr style=\"text-align: right;\">\n",
       "      <th></th>\n",
       "      <th>ID</th>\n",
       "      <th>Name</th>\n",
       "      <th>DateTime</th>\n",
       "      <th>AnimalType</th>\n",
       "      <th>SexuponOutcome</th>\n",
       "      <th>AgeuponOutcome</th>\n",
       "      <th>Breed</th>\n",
       "      <th>Color</th>\n",
       "    </tr>\n",
       "  </thead>\n",
       "  <tbody>\n",
       "    <tr>\n",
       "      <th>0</th>\n",
       "      <td>1</td>\n",
       "      <td>Summer</td>\n",
       "      <td>2015-10-12 12:15:00</td>\n",
       "      <td>Dog</td>\n",
       "      <td>Intact Female</td>\n",
       "      <td>10 months</td>\n",
       "      <td>Labrador Retriever Mix</td>\n",
       "      <td>Red/White</td>\n",
       "    </tr>\n",
       "    <tr>\n",
       "      <th>1</th>\n",
       "      <td>2</td>\n",
       "      <td>Cheyenne</td>\n",
       "      <td>2014-07-26 17:59:00</td>\n",
       "      <td>Dog</td>\n",
       "      <td>Spayed Female</td>\n",
       "      <td>2 years</td>\n",
       "      <td>German Shepherd/Siberian Husky</td>\n",
       "      <td>Black/Tan</td>\n",
       "    </tr>\n",
       "    <tr>\n",
       "      <th>2</th>\n",
       "      <td>3</td>\n",
       "      <td>Gus</td>\n",
       "      <td>2016-01-13 12:20:00</td>\n",
       "      <td>Cat</td>\n",
       "      <td>Neutered Male</td>\n",
       "      <td>1 year</td>\n",
       "      <td>Domestic Shorthair Mix</td>\n",
       "      <td>Brown Tabby</td>\n",
       "    </tr>\n",
       "    <tr>\n",
       "      <th>3</th>\n",
       "      <td>4</td>\n",
       "      <td>Pongo</td>\n",
       "      <td>2013-12-28 18:12:00</td>\n",
       "      <td>Dog</td>\n",
       "      <td>Intact Male</td>\n",
       "      <td>4 months</td>\n",
       "      <td>Collie Smooth Mix</td>\n",
       "      <td>Tricolor</td>\n",
       "    </tr>\n",
       "    <tr>\n",
       "      <th>4</th>\n",
       "      <td>5</td>\n",
       "      <td>Skooter</td>\n",
       "      <td>2015-09-24 17:59:00</td>\n",
       "      <td>Dog</td>\n",
       "      <td>Neutered Male</td>\n",
       "      <td>2 years</td>\n",
       "      <td>Miniature Poodle Mix</td>\n",
       "      <td>White</td>\n",
       "    </tr>\n",
       "  </tbody>\n",
       "</table>\n",
       "</div>"
      ],
      "text/plain": [
       "   ID      Name            DateTime AnimalType SexuponOutcome AgeuponOutcome  \\\n",
       "0   1    Summer 2015-10-12 12:15:00        Dog  Intact Female      10 months   \n",
       "1   2  Cheyenne 2014-07-26 17:59:00        Dog  Spayed Female        2 years   \n",
       "2   3       Gus 2016-01-13 12:20:00        Cat  Neutered Male         1 year   \n",
       "3   4     Pongo 2013-12-28 18:12:00        Dog    Intact Male       4 months   \n",
       "4   5   Skooter 2015-09-24 17:59:00        Dog  Neutered Male        2 years   \n",
       "\n",
       "                            Breed        Color  \n",
       "0          Labrador Retriever Mix    Red/White  \n",
       "1  German Shepherd/Siberian Husky    Black/Tan  \n",
       "2          Domestic Shorthair Mix  Brown Tabby  \n",
       "3               Collie Smooth Mix     Tricolor  \n",
       "4            Miniature Poodle Mix        White  "
      ]
     },
     "execution_count": 92,
     "metadata": {},
     "output_type": "execute_result"
    }
   ],
   "source": [
    "test = pd.read_csv(\"test.csv\", parse_dates=['DateTime'])\n",
    "test.head()"
   ]
  },
  {
   "cell_type": "code",
   "execution_count": 93,
   "metadata": {},
   "outputs": [
    {
     "data": {
      "text/plain": [
       "(11456, 8)"
      ]
     },
     "execution_count": 93,
     "metadata": {},
     "output_type": "execute_result"
    }
   ],
   "source": [
    "test.shape"
   ]
  },
  {
   "cell_type": "markdown",
   "metadata": {},
   "source": [
    "# DateTime splitting"
   ]
  },
  {
   "cell_type": "code",
   "execution_count": 94,
   "metadata": {},
   "outputs": [],
   "source": [
    "\n",
    "\n",
    "test['Year'] = test['DateTime'].map(lambda x: x.year)\n",
    "test['Month'] = test['DateTime'].map(lambda x: x.month)\n",
    "test['Date'] = test['DateTime'].map(lambda x: x.day)\n",
    "test['Hour'] = test['DateTime'].map(lambda x: x.hour)\n",
    "test['Minute'] = test['DateTime'].map(lambda x: x.minute)\n",
    "\n",
    "data['Year'] = data['DateTime'].map(lambda x: x.year)\n",
    "data['Month'] = data['DateTime'].map(lambda x: x.month)\n",
    "data['Date'] = data['DateTime'].map(lambda x: x.day)\n",
    "data['Minute'] = data['DateTime'].map(lambda x: x.minute)\n",
    "data['Hour'] = data['DateTime'].map(lambda x: x.hour)"
   ]
  },
  {
   "cell_type": "code",
   "execution_count": 95,
   "metadata": {},
   "outputs": [],
   "source": [
    "data=data.drop(labels=['DateTime'],axis=1)\n",
    "test=test.drop(labels=['DateTime'],axis=1)"
   ]
  },
  {
   "cell_type": "code",
   "execution_count": 96,
   "metadata": {},
   "outputs": [
    {
     "data": {
      "text/html": [
       "<div>\n",
       "<style scoped>\n",
       "    .dataframe tbody tr th:only-of-type {\n",
       "        vertical-align: middle;\n",
       "    }\n",
       "\n",
       "    .dataframe tbody tr th {\n",
       "        vertical-align: top;\n",
       "    }\n",
       "\n",
       "    .dataframe thead th {\n",
       "        text-align: right;\n",
       "    }\n",
       "</style>\n",
       "<table border=\"1\" class=\"dataframe\">\n",
       "  <thead>\n",
       "    <tr style=\"text-align: right;\">\n",
       "      <th></th>\n",
       "      <th>AnimalID</th>\n",
       "      <th>Name</th>\n",
       "      <th>OutcomeType</th>\n",
       "      <th>OutcomeSubtype</th>\n",
       "      <th>AnimalType</th>\n",
       "      <th>SexuponOutcome</th>\n",
       "      <th>AgeuponOutcome</th>\n",
       "      <th>Breed</th>\n",
       "      <th>Color</th>\n",
       "      <th>Year</th>\n",
       "      <th>Month</th>\n",
       "      <th>Date</th>\n",
       "      <th>Minute</th>\n",
       "      <th>Hour</th>\n",
       "    </tr>\n",
       "  </thead>\n",
       "  <tbody>\n",
       "    <tr>\n",
       "      <th>0</th>\n",
       "      <td>A671945</td>\n",
       "      <td>Hambone</td>\n",
       "      <td>Return_to_owner</td>\n",
       "      <td>NaN</td>\n",
       "      <td>Dog</td>\n",
       "      <td>Neutered Male</td>\n",
       "      <td>1 year</td>\n",
       "      <td>Shetland Sheepdog Mix</td>\n",
       "      <td>Brown/White</td>\n",
       "      <td>2014</td>\n",
       "      <td>2</td>\n",
       "      <td>12</td>\n",
       "      <td>22</td>\n",
       "      <td>18</td>\n",
       "    </tr>\n",
       "    <tr>\n",
       "      <th>1</th>\n",
       "      <td>A656520</td>\n",
       "      <td>Emily</td>\n",
       "      <td>Euthanasia</td>\n",
       "      <td>Suffering</td>\n",
       "      <td>Cat</td>\n",
       "      <td>Spayed Female</td>\n",
       "      <td>1 year</td>\n",
       "      <td>Domestic Shorthair Mix</td>\n",
       "      <td>Cream Tabby</td>\n",
       "      <td>2013</td>\n",
       "      <td>10</td>\n",
       "      <td>13</td>\n",
       "      <td>44</td>\n",
       "      <td>12</td>\n",
       "    </tr>\n",
       "    <tr>\n",
       "      <th>2</th>\n",
       "      <td>A686464</td>\n",
       "      <td>Pearce</td>\n",
       "      <td>Adoption</td>\n",
       "      <td>Foster</td>\n",
       "      <td>Dog</td>\n",
       "      <td>Neutered Male</td>\n",
       "      <td>2 years</td>\n",
       "      <td>Pit Bull Mix</td>\n",
       "      <td>Blue/White</td>\n",
       "      <td>2015</td>\n",
       "      <td>1</td>\n",
       "      <td>31</td>\n",
       "      <td>28</td>\n",
       "      <td>12</td>\n",
       "    </tr>\n",
       "    <tr>\n",
       "      <th>3</th>\n",
       "      <td>A683430</td>\n",
       "      <td>NaN</td>\n",
       "      <td>Transfer</td>\n",
       "      <td>Partner</td>\n",
       "      <td>Cat</td>\n",
       "      <td>Intact Male</td>\n",
       "      <td>3 weeks</td>\n",
       "      <td>Domestic Shorthair Mix</td>\n",
       "      <td>Blue Cream</td>\n",
       "      <td>2014</td>\n",
       "      <td>7</td>\n",
       "      <td>11</td>\n",
       "      <td>9</td>\n",
       "      <td>19</td>\n",
       "    </tr>\n",
       "    <tr>\n",
       "      <th>4</th>\n",
       "      <td>A667013</td>\n",
       "      <td>NaN</td>\n",
       "      <td>Transfer</td>\n",
       "      <td>Partner</td>\n",
       "      <td>Dog</td>\n",
       "      <td>Neutered Male</td>\n",
       "      <td>2 years</td>\n",
       "      <td>Lhasa Apso/Miniature Poodle</td>\n",
       "      <td>Tan</td>\n",
       "      <td>2013</td>\n",
       "      <td>11</td>\n",
       "      <td>15</td>\n",
       "      <td>52</td>\n",
       "      <td>12</td>\n",
       "    </tr>\n",
       "  </tbody>\n",
       "</table>\n",
       "</div>"
      ],
      "text/plain": [
       "  AnimalID     Name      OutcomeType OutcomeSubtype AnimalType SexuponOutcome  \\\n",
       "0  A671945  Hambone  Return_to_owner            NaN        Dog  Neutered Male   \n",
       "1  A656520    Emily       Euthanasia      Suffering        Cat  Spayed Female   \n",
       "2  A686464   Pearce         Adoption         Foster        Dog  Neutered Male   \n",
       "3  A683430      NaN         Transfer        Partner        Cat    Intact Male   \n",
       "4  A667013      NaN         Transfer        Partner        Dog  Neutered Male   \n",
       "\n",
       "  AgeuponOutcome                        Breed        Color  Year  Month  Date  \\\n",
       "0         1 year        Shetland Sheepdog Mix  Brown/White  2014      2    12   \n",
       "1         1 year       Domestic Shorthair Mix  Cream Tabby  2013     10    13   \n",
       "2        2 years                 Pit Bull Mix   Blue/White  2015      1    31   \n",
       "3        3 weeks       Domestic Shorthair Mix   Blue Cream  2014      7    11   \n",
       "4        2 years  Lhasa Apso/Miniature Poodle          Tan  2013     11    15   \n",
       "\n",
       "   Minute  Hour  \n",
       "0      22    18  \n",
       "1      44    12  \n",
       "2      28    12  \n",
       "3       9    19  \n",
       "4      52    12  "
      ]
     },
     "execution_count": 96,
     "metadata": {},
     "output_type": "execute_result"
    }
   ],
   "source": [
    "data.head()"
   ]
  },
  {
   "cell_type": "markdown",
   "metadata": {},
   "source": [
    "# Exploratory data analysis\n"
   ]
  },
  {
   "cell_type": "markdown",
   "metadata": {},
   "source": [
    "We start with exploratory data analysis. First, we look to see if we have outliers or missing data for each feature."
   ]
  },
  {
   "cell_type": "code",
   "execution_count": 97,
   "metadata": {},
   "outputs": [
    {
     "data": {
      "text/html": [
       "<div>\n",
       "<style scoped>\n",
       "    .dataframe tbody tr th:only-of-type {\n",
       "        vertical-align: middle;\n",
       "    }\n",
       "\n",
       "    .dataframe tbody tr th {\n",
       "        vertical-align: top;\n",
       "    }\n",
       "\n",
       "    .dataframe thead th {\n",
       "        text-align: right;\n",
       "    }\n",
       "</style>\n",
       "<table border=\"1\" class=\"dataframe\">\n",
       "  <thead>\n",
       "    <tr style=\"text-align: right;\">\n",
       "      <th></th>\n",
       "      <th>AnimalID</th>\n",
       "      <th>Name</th>\n",
       "      <th>OutcomeType</th>\n",
       "      <th>OutcomeSubtype</th>\n",
       "      <th>AnimalType</th>\n",
       "      <th>SexuponOutcome</th>\n",
       "      <th>AgeuponOutcome</th>\n",
       "      <th>Breed</th>\n",
       "      <th>Color</th>\n",
       "      <th>Year</th>\n",
       "      <th>Month</th>\n",
       "      <th>Date</th>\n",
       "      <th>Minute</th>\n",
       "      <th>Hour</th>\n",
       "    </tr>\n",
       "  </thead>\n",
       "  <tbody>\n",
       "    <tr>\n",
       "      <th>0</th>\n",
       "      <td>A671945</td>\n",
       "      <td>Hambone</td>\n",
       "      <td>Return_to_owner</td>\n",
       "      <td>NaN</td>\n",
       "      <td>Dog</td>\n",
       "      <td>Neutered Male</td>\n",
       "      <td>1 year</td>\n",
       "      <td>Shetland Sheepdog Mix</td>\n",
       "      <td>Brown/White</td>\n",
       "      <td>2014</td>\n",
       "      <td>2</td>\n",
       "      <td>12</td>\n",
       "      <td>22</td>\n",
       "      <td>18</td>\n",
       "    </tr>\n",
       "    <tr>\n",
       "      <th>1</th>\n",
       "      <td>A656520</td>\n",
       "      <td>Emily</td>\n",
       "      <td>Euthanasia</td>\n",
       "      <td>Suffering</td>\n",
       "      <td>Cat</td>\n",
       "      <td>Spayed Female</td>\n",
       "      <td>1 year</td>\n",
       "      <td>Domestic Shorthair Mix</td>\n",
       "      <td>Cream Tabby</td>\n",
       "      <td>2013</td>\n",
       "      <td>10</td>\n",
       "      <td>13</td>\n",
       "      <td>44</td>\n",
       "      <td>12</td>\n",
       "    </tr>\n",
       "    <tr>\n",
       "      <th>2</th>\n",
       "      <td>A686464</td>\n",
       "      <td>Pearce</td>\n",
       "      <td>Adoption</td>\n",
       "      <td>Foster</td>\n",
       "      <td>Dog</td>\n",
       "      <td>Neutered Male</td>\n",
       "      <td>2 years</td>\n",
       "      <td>Pit Bull Mix</td>\n",
       "      <td>Blue/White</td>\n",
       "      <td>2015</td>\n",
       "      <td>1</td>\n",
       "      <td>31</td>\n",
       "      <td>28</td>\n",
       "      <td>12</td>\n",
       "    </tr>\n",
       "    <tr>\n",
       "      <th>3</th>\n",
       "      <td>A683430</td>\n",
       "      <td>NaN</td>\n",
       "      <td>Transfer</td>\n",
       "      <td>Partner</td>\n",
       "      <td>Cat</td>\n",
       "      <td>Intact Male</td>\n",
       "      <td>3 weeks</td>\n",
       "      <td>Domestic Shorthair Mix</td>\n",
       "      <td>Blue Cream</td>\n",
       "      <td>2014</td>\n",
       "      <td>7</td>\n",
       "      <td>11</td>\n",
       "      <td>9</td>\n",
       "      <td>19</td>\n",
       "    </tr>\n",
       "    <tr>\n",
       "      <th>4</th>\n",
       "      <td>A667013</td>\n",
       "      <td>NaN</td>\n",
       "      <td>Transfer</td>\n",
       "      <td>Partner</td>\n",
       "      <td>Dog</td>\n",
       "      <td>Neutered Male</td>\n",
       "      <td>2 years</td>\n",
       "      <td>Lhasa Apso/Miniature Poodle</td>\n",
       "      <td>Tan</td>\n",
       "      <td>2013</td>\n",
       "      <td>11</td>\n",
       "      <td>15</td>\n",
       "      <td>52</td>\n",
       "      <td>12</td>\n",
       "    </tr>\n",
       "  </tbody>\n",
       "</table>\n",
       "</div>"
      ],
      "text/plain": [
       "  AnimalID     Name      OutcomeType OutcomeSubtype AnimalType SexuponOutcome  \\\n",
       "0  A671945  Hambone  Return_to_owner            NaN        Dog  Neutered Male   \n",
       "1  A656520    Emily       Euthanasia      Suffering        Cat  Spayed Female   \n",
       "2  A686464   Pearce         Adoption         Foster        Dog  Neutered Male   \n",
       "3  A683430      NaN         Transfer        Partner        Cat    Intact Male   \n",
       "4  A667013      NaN         Transfer        Partner        Dog  Neutered Male   \n",
       "\n",
       "  AgeuponOutcome                        Breed        Color  Year  Month  Date  \\\n",
       "0         1 year        Shetland Sheepdog Mix  Brown/White  2014      2    12   \n",
       "1         1 year       Domestic Shorthair Mix  Cream Tabby  2013     10    13   \n",
       "2        2 years                 Pit Bull Mix   Blue/White  2015      1    31   \n",
       "3        3 weeks       Domestic Shorthair Mix   Blue Cream  2014      7    11   \n",
       "4        2 years  Lhasa Apso/Miniature Poodle          Tan  2013     11    15   \n",
       "\n",
       "   Minute  Hour  \n",
       "0      22    18  \n",
       "1      44    12  \n",
       "2      28    12  \n",
       "3       9    19  \n",
       "4      52    12  "
      ]
     },
     "execution_count": 97,
     "metadata": {},
     "output_type": "execute_result"
    }
   ],
   "source": [
    "# Describe the dataset.\n",
    "data.head()"
   ]
  },
  {
   "cell_type": "code",
   "execution_count": 98,
   "metadata": {},
   "outputs": [
    {
     "data": {
      "text/html": [
       "<div>\n",
       "<style scoped>\n",
       "    .dataframe tbody tr th:only-of-type {\n",
       "        vertical-align: middle;\n",
       "    }\n",
       "\n",
       "    .dataframe tbody tr th {\n",
       "        vertical-align: top;\n",
       "    }\n",
       "\n",
       "    .dataframe thead th {\n",
       "        text-align: right;\n",
       "    }\n",
       "</style>\n",
       "<table border=\"1\" class=\"dataframe\">\n",
       "  <thead>\n",
       "    <tr style=\"text-align: right;\">\n",
       "      <th></th>\n",
       "      <th>Column Count</th>\n",
       "      <th>% Percent of Total Data</th>\n",
       "    </tr>\n",
       "  </thead>\n",
       "  <tbody>\n",
       "    <tr>\n",
       "      <th>AnimalID</th>\n",
       "      <td>26729</td>\n",
       "      <td>100.0</td>\n",
       "    </tr>\n",
       "    <tr>\n",
       "      <th>Name</th>\n",
       "      <td>19038</td>\n",
       "      <td>71.2</td>\n",
       "    </tr>\n",
       "    <tr>\n",
       "      <th>OutcomeType</th>\n",
       "      <td>26729</td>\n",
       "      <td>100.0</td>\n",
       "    </tr>\n",
       "    <tr>\n",
       "      <th>OutcomeSubtype</th>\n",
       "      <td>13117</td>\n",
       "      <td>49.1</td>\n",
       "    </tr>\n",
       "    <tr>\n",
       "      <th>AnimalType</th>\n",
       "      <td>26729</td>\n",
       "      <td>100.0</td>\n",
       "    </tr>\n",
       "    <tr>\n",
       "      <th>SexuponOutcome</th>\n",
       "      <td>26728</td>\n",
       "      <td>100.0</td>\n",
       "    </tr>\n",
       "    <tr>\n",
       "      <th>AgeuponOutcome</th>\n",
       "      <td>26711</td>\n",
       "      <td>99.9</td>\n",
       "    </tr>\n",
       "    <tr>\n",
       "      <th>Breed</th>\n",
       "      <td>26729</td>\n",
       "      <td>100.0</td>\n",
       "    </tr>\n",
       "    <tr>\n",
       "      <th>Color</th>\n",
       "      <td>26729</td>\n",
       "      <td>100.0</td>\n",
       "    </tr>\n",
       "    <tr>\n",
       "      <th>Year</th>\n",
       "      <td>26729</td>\n",
       "      <td>100.0</td>\n",
       "    </tr>\n",
       "    <tr>\n",
       "      <th>Month</th>\n",
       "      <td>26729</td>\n",
       "      <td>100.0</td>\n",
       "    </tr>\n",
       "    <tr>\n",
       "      <th>Date</th>\n",
       "      <td>26729</td>\n",
       "      <td>100.0</td>\n",
       "    </tr>\n",
       "    <tr>\n",
       "      <th>Minute</th>\n",
       "      <td>26729</td>\n",
       "      <td>100.0</td>\n",
       "    </tr>\n",
       "    <tr>\n",
       "      <th>Hour</th>\n",
       "      <td>26729</td>\n",
       "      <td>100.0</td>\n",
       "    </tr>\n",
       "  </tbody>\n",
       "</table>\n",
       "</div>"
      ],
      "text/plain": [
       "                Column Count  % Percent of Total Data\n",
       "AnimalID               26729                    100.0\n",
       "Name                   19038                     71.2\n",
       "OutcomeType            26729                    100.0\n",
       "OutcomeSubtype         13117                     49.1\n",
       "AnimalType             26729                    100.0\n",
       "SexuponOutcome         26728                    100.0\n",
       "AgeuponOutcome         26711                     99.9\n",
       "Breed                  26729                    100.0\n",
       "Color                  26729                    100.0\n",
       "Year                   26729                    100.0\n",
       "Month                  26729                    100.0\n",
       "Date                   26729                    100.0\n",
       "Minute                 26729                    100.0\n",
       "Hour                   26729                    100.0"
      ]
     },
     "execution_count": 98,
     "metadata": {},
     "output_type": "execute_result"
    }
   ],
   "source": [
    "\n",
    "data_counts = pd.DataFrame({'Column Count' : data.count(),\n",
    "   ....:                      '% Percent of Total Data' : data.count().div(max(data.count())) * 100})\n",
    "\n",
    "data_counts.round(1)"
   ]
  },
  {
   "cell_type": "markdown",
   "metadata": {},
   "source": [
    "Our initial look at the data reveals 26,729 rows. Name is included for 71.2% of the data. \n",
    "A large quantity of OutcomeSubtype data is missing, which we worked to quantify below. \n",
    "Aside from these two columns, we had at least 99.9% of the data in every other column.\n",
    "We are choosing not to use the Name variable moving forward.We feel that this level of sparsity within Name will not help us predict animal outcomes. "
   ]
  },
  {
   "cell_type": "markdown",
   "metadata": {},
   "source": [
    "# Class Variable"
   ]
  },
  {
   "cell_type": "code",
   "execution_count": 99,
   "metadata": {
    "scrolled": true
   },
   "outputs": [
    {
     "data": {
      "image/png": "[encoded data removed]",
      "text/plain": [
       "<Figure size 720x1728 with 2 Axes>"
      ]
     },
     "metadata": {
      "needs_background": "light"
     },
     "output_type": "display_data"
    },
    {
     "data": {
      "text/plain": [
       "<Figure size 720x360 with 0 Axes>"
      ]
     },
     "metadata": {},
     "output_type": "display_data"
    },
    {
     "data": {
      "text/plain": [
       "<Figure size 720x360 with 0 Axes>"
      ]
     },
     "metadata": {},
     "output_type": "display_data"
    }
   ],
   "source": [
    "# Obtain headers.\n",
    "headers = data.dtypes.index\n",
    "\n",
    "# Categorical headers of classes.\n",
    "cat_headers = ['OutcomeType', 'OutcomeSubtype']\n",
    "\n",
    "# Plot paretos of top 10 values in each column.\n",
    "fig, ax = plt.subplots(len(cat_headers[0:]), 1, figsize=(10, len(cat_headers)*12))\n",
    "for i, column in enumerate(cat_headers[0:]):\n",
    "    to_plot=data[column].value_counts().head(10)\n",
    "    plot=sns.barplot(x=to_plot.index, y=to_plot, ax=ax[i])\n",
    "    plot.set_xticklabels(to_plot.index, rotation=90)\n",
    "    plot.set_title(column)\n",
    "    plot.set_ylabel(\"Number of dogs/cats\")\n",
    "    plt.figure(figsize=(10,5))\n",
    "fig.show()"
   ]
  },
  {
   "cell_type": "code",
   "execution_count": 100,
   "metadata": {},
   "outputs": [
    {
     "data": {
      "text/html": [
       "<div>\n",
       "<style scoped>\n",
       "    .dataframe tbody tr th:only-of-type {\n",
       "        vertical-align: middle;\n",
       "    }\n",
       "\n",
       "    .dataframe tbody tr th {\n",
       "        vertical-align: top;\n",
       "    }\n",
       "\n",
       "    .dataframe thead th {\n",
       "        text-align: right;\n",
       "    }\n",
       "</style>\n",
       "<table border=\"1\" class=\"dataframe\">\n",
       "  <thead>\n",
       "    <tr style=\"text-align: right;\">\n",
       "      <th></th>\n",
       "      <th>OutcomeType</th>\n",
       "      <th>OutcomeSubtype</th>\n",
       "      <th>Count</th>\n",
       "    </tr>\n",
       "  </thead>\n",
       "  <tbody>\n",
       "    <tr>\n",
       "      <th>0</th>\n",
       "      <td>Adoption</td>\n",
       "      <td>Barn</td>\n",
       "      <td>1</td>\n",
       "    </tr>\n",
       "    <tr>\n",
       "      <th>1</th>\n",
       "      <td>Adoption</td>\n",
       "      <td>Foster</td>\n",
       "      <td>1800</td>\n",
       "    </tr>\n",
       "    <tr>\n",
       "      <th>2</th>\n",
       "      <td>Adoption</td>\n",
       "      <td>Offsite</td>\n",
       "      <td>165</td>\n",
       "    </tr>\n",
       "    <tr>\n",
       "      <th>3</th>\n",
       "      <td>Died</td>\n",
       "      <td>At Vet</td>\n",
       "      <td>4</td>\n",
       "    </tr>\n",
       "    <tr>\n",
       "      <th>4</th>\n",
       "      <td>Died</td>\n",
       "      <td>Enroute</td>\n",
       "      <td>8</td>\n",
       "    </tr>\n",
       "    <tr>\n",
       "      <th>5</th>\n",
       "      <td>Died</td>\n",
       "      <td>In Foster</td>\n",
       "      <td>52</td>\n",
       "    </tr>\n",
       "    <tr>\n",
       "      <th>6</th>\n",
       "      <td>Died</td>\n",
       "      <td>In Kennel</td>\n",
       "      <td>114</td>\n",
       "    </tr>\n",
       "    <tr>\n",
       "      <th>7</th>\n",
       "      <td>Died</td>\n",
       "      <td>In Surgery</td>\n",
       "      <td>3</td>\n",
       "    </tr>\n",
       "    <tr>\n",
       "      <th>8</th>\n",
       "      <td>Euthanasia</td>\n",
       "      <td>Aggressive</td>\n",
       "      <td>320</td>\n",
       "    </tr>\n",
       "    <tr>\n",
       "      <th>9</th>\n",
       "      <td>Euthanasia</td>\n",
       "      <td>Behavior</td>\n",
       "      <td>86</td>\n",
       "    </tr>\n",
       "    <tr>\n",
       "      <th>10</th>\n",
       "      <td>Euthanasia</td>\n",
       "      <td>Court/Investigation</td>\n",
       "      <td>6</td>\n",
       "    </tr>\n",
       "    <tr>\n",
       "      <th>11</th>\n",
       "      <td>Euthanasia</td>\n",
       "      <td>Medical</td>\n",
       "      <td>66</td>\n",
       "    </tr>\n",
       "    <tr>\n",
       "      <th>12</th>\n",
       "      <td>Euthanasia</td>\n",
       "      <td>Rabies Risk</td>\n",
       "      <td>74</td>\n",
       "    </tr>\n",
       "    <tr>\n",
       "      <th>13</th>\n",
       "      <td>Euthanasia</td>\n",
       "      <td>Suffering</td>\n",
       "      <td>1002</td>\n",
       "    </tr>\n",
       "    <tr>\n",
       "      <th>14</th>\n",
       "      <td>Transfer</td>\n",
       "      <td>Barn</td>\n",
       "      <td>1</td>\n",
       "    </tr>\n",
       "    <tr>\n",
       "      <th>15</th>\n",
       "      <td>Transfer</td>\n",
       "      <td>Partner</td>\n",
       "      <td>7816</td>\n",
       "    </tr>\n",
       "    <tr>\n",
       "      <th>16</th>\n",
       "      <td>Transfer</td>\n",
       "      <td>SCRP</td>\n",
       "      <td>1599</td>\n",
       "    </tr>\n",
       "  </tbody>\n",
       "</table>\n",
       "</div>"
      ],
      "text/plain": [
       "   OutcomeType       OutcomeSubtype  Count\n",
       "0     Adoption                 Barn      1\n",
       "1     Adoption               Foster   1800\n",
       "2     Adoption              Offsite    165\n",
       "3         Died               At Vet      4\n",
       "4         Died              Enroute      8\n",
       "5         Died            In Foster     52\n",
       "6         Died            In Kennel    114\n",
       "7         Died           In Surgery      3\n",
       "8   Euthanasia           Aggressive    320\n",
       "9   Euthanasia             Behavior     86\n",
       "10  Euthanasia  Court/Investigation      6\n",
       "11  Euthanasia              Medical     66\n",
       "12  Euthanasia          Rabies Risk     74\n",
       "13  Euthanasia            Suffering   1002\n",
       "14    Transfer                 Barn      1\n",
       "15    Transfer              Partner   7816\n",
       "16    Transfer                 SCRP   1599"
      ]
     },
     "execution_count": 100,
     "metadata": {},
     "output_type": "execute_result"
    }
   ],
   "source": [
    "data.groupby(['OutcomeType', 'OutcomeSubtype']).size().reset_index(name='Count')"
   ]
  },
  {
   "cell_type": "code",
   "execution_count": 101,
   "metadata": {
    "scrolled": true
   },
   "outputs": [
    {
     "data": {
      "text/html": [
       "<div>\n",
       "<style scoped>\n",
       "    .dataframe tbody tr th:only-of-type {\n",
       "        vertical-align: middle;\n",
       "    }\n",
       "\n",
       "    .dataframe tbody tr th {\n",
       "        vertical-align: top;\n",
       "    }\n",
       "\n",
       "    .dataframe thead th {\n",
       "        text-align: right;\n",
       "    }\n",
       "</style>\n",
       "<table border=\"1\" class=\"dataframe\">\n",
       "  <thead>\n",
       "    <tr style=\"text-align: right;\">\n",
       "      <th></th>\n",
       "      <th>AnimalID</th>\n",
       "      <th>Name</th>\n",
       "      <th>OutcomeType</th>\n",
       "      <th>OutcomeSubtype</th>\n",
       "      <th>AnimalType</th>\n",
       "      <th>SexuponOutcome</th>\n",
       "      <th>AgeuponOutcome</th>\n",
       "      <th>Breed</th>\n",
       "      <th>Color</th>\n",
       "      <th>Year</th>\n",
       "      <th>Month</th>\n",
       "      <th>Date</th>\n",
       "      <th>Minute</th>\n",
       "      <th>Hour</th>\n",
       "    </tr>\n",
       "  </thead>\n",
       "  <tbody>\n",
       "    <tr>\n",
       "      <th>0</th>\n",
       "      <td>A671945</td>\n",
       "      <td>Hambone</td>\n",
       "      <td>Return_to_owner</td>\n",
       "      <td>NaN</td>\n",
       "      <td>Dog</td>\n",
       "      <td>Neutered Male</td>\n",
       "      <td>1 year</td>\n",
       "      <td>Shetland Sheepdog Mix</td>\n",
       "      <td>Brown/White</td>\n",
       "      <td>2014</td>\n",
       "      <td>2</td>\n",
       "      <td>12</td>\n",
       "      <td>22</td>\n",
       "      <td>18</td>\n",
       "    </tr>\n",
       "    <tr>\n",
       "      <th>8</th>\n",
       "      <td>A671784</td>\n",
       "      <td>Lucy</td>\n",
       "      <td>Adoption</td>\n",
       "      <td>NaN</td>\n",
       "      <td>Dog</td>\n",
       "      <td>Spayed Female</td>\n",
       "      <td>5 months</td>\n",
       "      <td>American Pit Bull Terrier Mix</td>\n",
       "      <td>Red/White</td>\n",
       "      <td>2014</td>\n",
       "      <td>2</td>\n",
       "      <td>4</td>\n",
       "      <td>17</td>\n",
       "      <td>17</td>\n",
       "    </tr>\n",
       "    <tr>\n",
       "      <th>11</th>\n",
       "      <td>A666320</td>\n",
       "      <td>NaN</td>\n",
       "      <td>Adoption</td>\n",
       "      <td>NaN</td>\n",
       "      <td>Dog</td>\n",
       "      <td>Spayed Female</td>\n",
       "      <td>2 years</td>\n",
       "      <td>Miniature Schnauzer Mix</td>\n",
       "      <td>Silver</td>\n",
       "      <td>2013</td>\n",
       "      <td>11</td>\n",
       "      <td>4</td>\n",
       "      <td>48</td>\n",
       "      <td>14</td>\n",
       "    </tr>\n",
       "    <tr>\n",
       "      <th>13</th>\n",
       "      <td>A704702</td>\n",
       "      <td>Scooter</td>\n",
       "      <td>Return_to_owner</td>\n",
       "      <td>NaN</td>\n",
       "      <td>Dog</td>\n",
       "      <td>Neutered Male</td>\n",
       "      <td>2 years</td>\n",
       "      <td>Yorkshire Terrier Mix</td>\n",
       "      <td>Black/Red</td>\n",
       "      <td>2015</td>\n",
       "      <td>6</td>\n",
       "      <td>8</td>\n",
       "      <td>30</td>\n",
       "      <td>16</td>\n",
       "    </tr>\n",
       "    <tr>\n",
       "      <th>14</th>\n",
       "      <td>A688584</td>\n",
       "      <td>Preston</td>\n",
       "      <td>Return_to_owner</td>\n",
       "      <td>NaN</td>\n",
       "      <td>Dog</td>\n",
       "      <td>Neutered Male</td>\n",
       "      <td>1 year</td>\n",
       "      <td>Great Pyrenees Mix</td>\n",
       "      <td>White/Cream</td>\n",
       "      <td>2015</td>\n",
       "      <td>11</td>\n",
       "      <td>25</td>\n",
       "      <td>0</td>\n",
       "      <td>15</td>\n",
       "    </tr>\n",
       "  </tbody>\n",
       "</table>\n",
       "</div>"
      ],
      "text/plain": [
       "   AnimalID     Name      OutcomeType OutcomeSubtype AnimalType  \\\n",
       "0   A671945  Hambone  Return_to_owner            NaN        Dog   \n",
       "8   A671784     Lucy         Adoption            NaN        Dog   \n",
       "11  A666320      NaN         Adoption            NaN        Dog   \n",
       "13  A704702  Scooter  Return_to_owner            NaN        Dog   \n",
       "14  A688584  Preston  Return_to_owner            NaN        Dog   \n",
       "\n",
       "   SexuponOutcome AgeuponOutcome                          Breed        Color  \\\n",
       "0   Neutered Male         1 year          Shetland Sheepdog Mix  Brown/White   \n",
       "8   Spayed Female       5 months  American Pit Bull Terrier Mix    Red/White   \n",
       "11  Spayed Female        2 years        Miniature Schnauzer Mix       Silver   \n",
       "13  Neutered Male        2 years          Yorkshire Terrier Mix    Black/Red   \n",
       "14  Neutered Male         1 year             Great Pyrenees Mix  White/Cream   \n",
       "\n",
       "    Year  Month  Date  Minute  Hour  \n",
       "0   2014      2    12      22    18  \n",
       "8   2014      2     4      17    17  \n",
       "11  2013     11     4      48    14  \n",
       "13  2015      6     8      30    16  \n",
       "14  2015     11    25       0    15  "
      ]
     },
     "execution_count": 101,
     "metadata": {},
     "output_type": "execute_result"
    }
   ],
   "source": [
    "data_sub = data[data['OutcomeSubtype'].isnull()]\n",
    "data_sub.head()"
   ]
  },
  {
   "cell_type": "code",
   "execution_count": 102,
   "metadata": {},
   "outputs": [
    {
     "data": {
      "text/plain": [
       "(13612, 14)"
      ]
     },
     "execution_count": 102,
     "metadata": {},
     "output_type": "execute_result"
    }
   ],
   "source": [
    "data_sub.shape"
   ]
  },
  {
   "cell_type": "code",
   "execution_count": 103,
   "metadata": {},
   "outputs": [
    {
     "data": {
      "text/html": [
       "<div>\n",
       "<style scoped>\n",
       "    .dataframe tbody tr th:only-of-type {\n",
       "        vertical-align: middle;\n",
       "    }\n",
       "\n",
       "    .dataframe tbody tr th {\n",
       "        vertical-align: top;\n",
       "    }\n",
       "\n",
       "    .dataframe thead th {\n",
       "        text-align: right;\n",
       "    }\n",
       "</style>\n",
       "<table border=\"1\" class=\"dataframe\">\n",
       "  <thead>\n",
       "    <tr style=\"text-align: right;\">\n",
       "      <th></th>\n",
       "      <th>OutcomeType</th>\n",
       "      <th>Count</th>\n",
       "    </tr>\n",
       "  </thead>\n",
       "  <tbody>\n",
       "    <tr>\n",
       "      <th>0</th>\n",
       "      <td>Adoption</td>\n",
       "      <td>8803</td>\n",
       "    </tr>\n",
       "    <tr>\n",
       "      <th>1</th>\n",
       "      <td>Died</td>\n",
       "      <td>16</td>\n",
       "    </tr>\n",
       "    <tr>\n",
       "      <th>2</th>\n",
       "      <td>Euthanasia</td>\n",
       "      <td>1</td>\n",
       "    </tr>\n",
       "    <tr>\n",
       "      <th>3</th>\n",
       "      <td>Return_to_owner</td>\n",
       "      <td>4786</td>\n",
       "    </tr>\n",
       "    <tr>\n",
       "      <th>4</th>\n",
       "      <td>Transfer</td>\n",
       "      <td>6</td>\n",
       "    </tr>\n",
       "  </tbody>\n",
       "</table>\n",
       "</div>"
      ],
      "text/plain": [
       "       OutcomeType  Count\n",
       "0         Adoption   8803\n",
       "1             Died     16\n",
       "2       Euthanasia      1\n",
       "3  Return_to_owner   4786\n",
       "4         Transfer      6"
      ]
     },
     "execution_count": 103,
     "metadata": {},
     "output_type": "execute_result"
    }
   ],
   "source": [
    "data_sub.groupby(['OutcomeType']).size().reset_index(name='Count')"
   ]
  },
  {
   "cell_type": "markdown",
   "metadata": {},
   "source": [
    "From the data in the table above, we surmise that it is possible the majority of the subtype null data is from the Return to Owner or Adoption outcome type data. We will examine this further below."
   ]
  },
  {
   "cell_type": "markdown",
   "metadata": {},
   "source": [
    "Of all the null entries in OutcomeSubtype,\n",
    "\n",
    "8803 are of OutcomeType- Adoption,\n",
    "4786 are of OutcomeType- Return_to_owner,\n",
    "16   are of OutcomeType- Died,\n",
    "6    are of OutcomeType- Transfer,\n",
    "1    is of OutcomeType - Euthanasia.\n",
    "\n",
    "As we already have outcome subtypes for barn, foster, and offsite within adoption, we feel confident in assuming that these missing subtypes are simply the animals that were adopted. We will assume this is true and fill these null values with adopted.\n",
    "\n",
    "As the return-to-owner outcome type also has no subtype, we will make the outcome subtype return to owner.\n",
    "\n",
    "For the remaining 23 null outcome subtypes, we will label their subtype as other."
   ]
  },
  {
   "cell_type": "code",
   "execution_count": 104,
   "metadata": {},
   "outputs": [],
   "source": [
    "def subtype(x):\n",
    "    if x['OutcomeType'] == 'Adoption' and pd.isnull(x['OutcomeSubtype']) : return 'Adopted'\n",
    "    elif x['OutcomeType'] == 'Return_to_owner' and pd.isnull(x['OutcomeSubtype']): return 'Return to Owner'\n",
    "    elif pd.isnull(x['OutcomeSubtype']) : return 'Other'\n",
    "    else: return x['OutcomeSubtype']\n",
    "\n",
    "data['OutcomeSubtype'] = data.apply(subtype, axis=1)"
   ]
  },
  {
   "cell_type": "code",
   "execution_count": 105,
   "metadata": {},
   "outputs": [
    {
     "data": {
      "text/html": [
       "<div>\n",
       "<style scoped>\n",
       "    .dataframe tbody tr th:only-of-type {\n",
       "        vertical-align: middle;\n",
       "    }\n",
       "\n",
       "    .dataframe tbody tr th {\n",
       "        vertical-align: top;\n",
       "    }\n",
       "\n",
       "    .dataframe thead th {\n",
       "        text-align: right;\n",
       "    }\n",
       "</style>\n",
       "<table border=\"1\" class=\"dataframe\">\n",
       "  <thead>\n",
       "    <tr style=\"text-align: right;\">\n",
       "      <th></th>\n",
       "      <th>OutcomeType</th>\n",
       "      <th>OutcomeSubtype</th>\n",
       "      <th>Count</th>\n",
       "    </tr>\n",
       "  </thead>\n",
       "  <tbody>\n",
       "    <tr>\n",
       "      <th>0</th>\n",
       "      <td>Adoption</td>\n",
       "      <td>Adopted</td>\n",
       "      <td>8803</td>\n",
       "    </tr>\n",
       "    <tr>\n",
       "      <th>1</th>\n",
       "      <td>Adoption</td>\n",
       "      <td>Barn</td>\n",
       "      <td>1</td>\n",
       "    </tr>\n",
       "    <tr>\n",
       "      <th>2</th>\n",
       "      <td>Adoption</td>\n",
       "      <td>Foster</td>\n",
       "      <td>1800</td>\n",
       "    </tr>\n",
       "    <tr>\n",
       "      <th>3</th>\n",
       "      <td>Adoption</td>\n",
       "      <td>Offsite</td>\n",
       "      <td>165</td>\n",
       "    </tr>\n",
       "    <tr>\n",
       "      <th>4</th>\n",
       "      <td>Died</td>\n",
       "      <td>At Vet</td>\n",
       "      <td>4</td>\n",
       "    </tr>\n",
       "    <tr>\n",
       "      <th>5</th>\n",
       "      <td>Died</td>\n",
       "      <td>Enroute</td>\n",
       "      <td>8</td>\n",
       "    </tr>\n",
       "    <tr>\n",
       "      <th>6</th>\n",
       "      <td>Died</td>\n",
       "      <td>In Foster</td>\n",
       "      <td>52</td>\n",
       "    </tr>\n",
       "    <tr>\n",
       "      <th>7</th>\n",
       "      <td>Died</td>\n",
       "      <td>In Kennel</td>\n",
       "      <td>114</td>\n",
       "    </tr>\n",
       "    <tr>\n",
       "      <th>8</th>\n",
       "      <td>Died</td>\n",
       "      <td>In Surgery</td>\n",
       "      <td>3</td>\n",
       "    </tr>\n",
       "    <tr>\n",
       "      <th>9</th>\n",
       "      <td>Died</td>\n",
       "      <td>Other</td>\n",
       "      <td>16</td>\n",
       "    </tr>\n",
       "    <tr>\n",
       "      <th>10</th>\n",
       "      <td>Euthanasia</td>\n",
       "      <td>Aggressive</td>\n",
       "      <td>320</td>\n",
       "    </tr>\n",
       "    <tr>\n",
       "      <th>11</th>\n",
       "      <td>Euthanasia</td>\n",
       "      <td>Behavior</td>\n",
       "      <td>86</td>\n",
       "    </tr>\n",
       "    <tr>\n",
       "      <th>12</th>\n",
       "      <td>Euthanasia</td>\n",
       "      <td>Court/Investigation</td>\n",
       "      <td>6</td>\n",
       "    </tr>\n",
       "    <tr>\n",
       "      <th>13</th>\n",
       "      <td>Euthanasia</td>\n",
       "      <td>Medical</td>\n",
       "      <td>66</td>\n",
       "    </tr>\n",
       "    <tr>\n",
       "      <th>14</th>\n",
       "      <td>Euthanasia</td>\n",
       "      <td>Other</td>\n",
       "      <td>1</td>\n",
       "    </tr>\n",
       "    <tr>\n",
       "      <th>15</th>\n",
       "      <td>Euthanasia</td>\n",
       "      <td>Rabies Risk</td>\n",
       "      <td>74</td>\n",
       "    </tr>\n",
       "    <tr>\n",
       "      <th>16</th>\n",
       "      <td>Euthanasia</td>\n",
       "      <td>Suffering</td>\n",
       "      <td>1002</td>\n",
       "    </tr>\n",
       "    <tr>\n",
       "      <th>17</th>\n",
       "      <td>Return_to_owner</td>\n",
       "      <td>Return to Owner</td>\n",
       "      <td>4786</td>\n",
       "    </tr>\n",
       "    <tr>\n",
       "      <th>18</th>\n",
       "      <td>Transfer</td>\n",
       "      <td>Barn</td>\n",
       "      <td>1</td>\n",
       "    </tr>\n",
       "    <tr>\n",
       "      <th>19</th>\n",
       "      <td>Transfer</td>\n",
       "      <td>Other</td>\n",
       "      <td>6</td>\n",
       "    </tr>\n",
       "    <tr>\n",
       "      <th>20</th>\n",
       "      <td>Transfer</td>\n",
       "      <td>Partner</td>\n",
       "      <td>7816</td>\n",
       "    </tr>\n",
       "    <tr>\n",
       "      <th>21</th>\n",
       "      <td>Transfer</td>\n",
       "      <td>SCRP</td>\n",
       "      <td>1599</td>\n",
       "    </tr>\n",
       "  </tbody>\n",
       "</table>\n",
       "</div>"
      ],
      "text/plain": [
       "        OutcomeType       OutcomeSubtype  Count\n",
       "0          Adoption              Adopted   8803\n",
       "1          Adoption                 Barn      1\n",
       "2          Adoption               Foster   1800\n",
       "3          Adoption              Offsite    165\n",
       "4              Died               At Vet      4\n",
       "5              Died              Enroute      8\n",
       "6              Died            In Foster     52\n",
       "7              Died            In Kennel    114\n",
       "8              Died           In Surgery      3\n",
       "9              Died                Other     16\n",
       "10       Euthanasia           Aggressive    320\n",
       "11       Euthanasia             Behavior     86\n",
       "12       Euthanasia  Court/Investigation      6\n",
       "13       Euthanasia              Medical     66\n",
       "14       Euthanasia                Other      1\n",
       "15       Euthanasia          Rabies Risk     74\n",
       "16       Euthanasia            Suffering   1002\n",
       "17  Return_to_owner      Return to Owner   4786\n",
       "18         Transfer                 Barn      1\n",
       "19         Transfer                Other      6\n",
       "20         Transfer              Partner   7816\n",
       "21         Transfer                 SCRP   1599"
      ]
     },
     "execution_count": 105,
     "metadata": {},
     "output_type": "execute_result"
    }
   ],
   "source": [
    "data.groupby(['OutcomeType', 'OutcomeSubtype']).size().reset_index(name='Count')"
   ]
  },
  {
   "cell_type": "markdown",
   "metadata": {},
   "source": [
    "# Feature Review"
   ]
  },
  {
   "cell_type": "code",
   "execution_count": 106,
   "metadata": {},
   "outputs": [
    {
     "data": {
      "image/png": "[encoded data removed]",
      "text/plain": [
       "<Figure size 720x4320 with 5 Axes>"
      ]
     },
     "metadata": {
      "needs_background": "light"
     },
     "output_type": "display_data"
    }
   ],
   "source": [
    "# Obtain headers.\n",
    "headers = data.dtypes.index\n",
    "\n",
    "# Not all of these are categorical variables.  \n",
    "# We need categorical headers and continuous headers, with two different types of plots.\n",
    "\n",
    "# Categorical headers of features.\n",
    "cat_headers = ['Name', 'AnimalType', 'SexuponOutcome', 'Breed', 'Color']\n",
    "\n",
    "# Plot paretos of top 10 values in each column.\n",
    "fig, ax = plt.subplots(len(cat_headers[0:]), 1, figsize=(10, len(cat_headers)*12))\n",
    "for i, column in enumerate(cat_headers[0:]):\n",
    "    to_plot=data[column].value_counts().head(10)\n",
    "    plot=sns.barplot(x=to_plot.index, y=to_plot, ax=ax[i])\n",
    "    plot.set_xticklabels(to_plot.index, rotation=90)\n",
    "    plot.set_title(column)\n",
    "    plot.set_ylabel(\"Number of dogs/cats\")\n",
    "fig.show()"
   ]
  },
  {
   "cell_type": "code",
   "execution_count": 107,
   "metadata": {},
   "outputs": [
    {
     "data": {
      "text/html": [
       "<div>\n",
       "<style scoped>\n",
       "    .dataframe tbody tr th:only-of-type {\n",
       "        vertical-align: middle;\n",
       "    }\n",
       "\n",
       "    .dataframe tbody tr th {\n",
       "        vertical-align: top;\n",
       "    }\n",
       "\n",
       "    .dataframe thead th {\n",
       "        text-align: right;\n",
       "    }\n",
       "</style>\n",
       "<table border=\"1\" class=\"dataframe\">\n",
       "  <thead>\n",
       "    <tr style=\"text-align: right;\">\n",
       "      <th></th>\n",
       "      <th>OutcomeType</th>\n",
       "      <th>SexuponOutcome</th>\n",
       "      <th># of Animals</th>\n",
       "    </tr>\n",
       "  </thead>\n",
       "  <tbody>\n",
       "    <tr>\n",
       "      <th>0</th>\n",
       "      <td>Adoption</td>\n",
       "      <td>Intact Female</td>\n",
       "      <td>203</td>\n",
       "    </tr>\n",
       "    <tr>\n",
       "      <th>1</th>\n",
       "      <td>Adoption</td>\n",
       "      <td>Intact Male</td>\n",
       "      <td>158</td>\n",
       "    </tr>\n",
       "    <tr>\n",
       "      <th>2</th>\n",
       "      <td>Adoption</td>\n",
       "      <td>Neutered Male</td>\n",
       "      <td>5222</td>\n",
       "    </tr>\n",
       "    <tr>\n",
       "      <th>3</th>\n",
       "      <td>Adoption</td>\n",
       "      <td>Spayed Female</td>\n",
       "      <td>5186</td>\n",
       "    </tr>\n",
       "    <tr>\n",
       "      <th>4</th>\n",
       "      <td>Died</td>\n",
       "      <td>Intact Female</td>\n",
       "      <td>56</td>\n",
       "    </tr>\n",
       "    <tr>\n",
       "      <th>5</th>\n",
       "      <td>Died</td>\n",
       "      <td>Intact Male</td>\n",
       "      <td>79</td>\n",
       "    </tr>\n",
       "    <tr>\n",
       "      <th>6</th>\n",
       "      <td>Died</td>\n",
       "      <td>Neutered Male</td>\n",
       "      <td>19</td>\n",
       "    </tr>\n",
       "    <tr>\n",
       "      <th>7</th>\n",
       "      <td>Died</td>\n",
       "      <td>Spayed Female</td>\n",
       "      <td>18</td>\n",
       "    </tr>\n",
       "    <tr>\n",
       "      <th>8</th>\n",
       "      <td>Died</td>\n",
       "      <td>Unknown</td>\n",
       "      <td>25</td>\n",
       "    </tr>\n",
       "    <tr>\n",
       "      <th>9</th>\n",
       "      <td>Euthanasia</td>\n",
       "      <td>Intact Female</td>\n",
       "      <td>401</td>\n",
       "    </tr>\n",
       "    <tr>\n",
       "      <th>10</th>\n",
       "      <td>Euthanasia</td>\n",
       "      <td>Intact Male</td>\n",
       "      <td>477</td>\n",
       "    </tr>\n",
       "    <tr>\n",
       "      <th>11</th>\n",
       "      <td>Euthanasia</td>\n",
       "      <td>Neutered Male</td>\n",
       "      <td>344</td>\n",
       "    </tr>\n",
       "    <tr>\n",
       "      <th>12</th>\n",
       "      <td>Euthanasia</td>\n",
       "      <td>Spayed Female</td>\n",
       "      <td>232</td>\n",
       "    </tr>\n",
       "    <tr>\n",
       "      <th>13</th>\n",
       "      <td>Euthanasia</td>\n",
       "      <td>Unknown</td>\n",
       "      <td>101</td>\n",
       "    </tr>\n",
       "    <tr>\n",
       "      <th>14</th>\n",
       "      <td>Return_to_owner</td>\n",
       "      <td>Intact Female</td>\n",
       "      <td>301</td>\n",
       "    </tr>\n",
       "    <tr>\n",
       "      <th>15</th>\n",
       "      <td>Return_to_owner</td>\n",
       "      <td>Intact Male</td>\n",
       "      <td>477</td>\n",
       "    </tr>\n",
       "    <tr>\n",
       "      <th>16</th>\n",
       "      <td>Return_to_owner</td>\n",
       "      <td>Neutered Male</td>\n",
       "      <td>2247</td>\n",
       "    </tr>\n",
       "    <tr>\n",
       "      <th>17</th>\n",
       "      <td>Return_to_owner</td>\n",
       "      <td>Spayed Female</td>\n",
       "      <td>1748</td>\n",
       "    </tr>\n",
       "    <tr>\n",
       "      <th>18</th>\n",
       "      <td>Return_to_owner</td>\n",
       "      <td>Unknown</td>\n",
       "      <td>12</td>\n",
       "    </tr>\n",
       "    <tr>\n",
       "      <th>19</th>\n",
       "      <td>Transfer</td>\n",
       "      <td>Intact Female</td>\n",
       "      <td>2550</td>\n",
       "    </tr>\n",
       "    <tr>\n",
       "      <th>20</th>\n",
       "      <td>Transfer</td>\n",
       "      <td>Intact Male</td>\n",
       "      <td>2334</td>\n",
       "    </tr>\n",
       "    <tr>\n",
       "      <th>21</th>\n",
       "      <td>Transfer</td>\n",
       "      <td>Neutered Male</td>\n",
       "      <td>1947</td>\n",
       "    </tr>\n",
       "    <tr>\n",
       "      <th>22</th>\n",
       "      <td>Transfer</td>\n",
       "      <td>Spayed Female</td>\n",
       "      <td>1636</td>\n",
       "    </tr>\n",
       "    <tr>\n",
       "      <th>23</th>\n",
       "      <td>Transfer</td>\n",
       "      <td>Unknown</td>\n",
       "      <td>955</td>\n",
       "    </tr>\n",
       "  </tbody>\n",
       "</table>\n",
       "</div>"
      ],
      "text/plain": [
       "        OutcomeType SexuponOutcome  # of Animals\n",
       "0          Adoption  Intact Female           203\n",
       "1          Adoption    Intact Male           158\n",
       "2          Adoption  Neutered Male          5222\n",
       "3          Adoption  Spayed Female          5186\n",
       "4              Died  Intact Female            56\n",
       "5              Died    Intact Male            79\n",
       "6              Died  Neutered Male            19\n",
       "7              Died  Spayed Female            18\n",
       "8              Died        Unknown            25\n",
       "9        Euthanasia  Intact Female           401\n",
       "10       Euthanasia    Intact Male           477\n",
       "11       Euthanasia  Neutered Male           344\n",
       "12       Euthanasia  Spayed Female           232\n",
       "13       Euthanasia        Unknown           101\n",
       "14  Return_to_owner  Intact Female           301\n",
       "15  Return_to_owner    Intact Male           477\n",
       "16  Return_to_owner  Neutered Male          2247\n",
       "17  Return_to_owner  Spayed Female          1748\n",
       "18  Return_to_owner        Unknown            12\n",
       "19         Transfer  Intact Female          2550\n",
       "20         Transfer    Intact Male          2334\n",
       "21         Transfer  Neutered Male          1947\n",
       "22         Transfer  Spayed Female          1636\n",
       "23         Transfer        Unknown           955"
      ]
     },
     "execution_count": 107,
     "metadata": {},
     "output_type": "execute_result"
    }
   ],
   "source": [
    "data_sex_dropna = data.dropna(subset=['SexuponOutcome'])\n",
    "data_sex_outcome = data_sex_dropna.groupby(['OutcomeType', 'SexuponOutcome']).agg({'AnimalType':'size'}).rename(columns={'AnimalType':'# of Animals'}).reset_index()\n",
    "data_sex_outcome"
   ]
  },
  {
   "cell_type": "code",
   "execution_count": 108,
   "metadata": {},
   "outputs": [],
   "source": [
    "def convert_AgeuponOutcome_to_weeks(data):\n",
    "    result = {}\n",
    "    for k in data['AgeuponOutcome'].unique():\n",
    "        if type(k) != type(\"\"):\n",
    "            result[k] = -1\n",
    "        else:\n",
    "            v1, v2 = k.split()\n",
    "            if v2 in [\"year\", \"years\"]:\n",
    "                result[k] = int(v1) * 1\n",
    "            elif v2 in [\"month\", \"months\"]:\n",
    "                result[k] = int(v1) / 12\n",
    "            elif v2 in [\"week\", \"weeks\"]:\n",
    "                result[k] = int(v1) / 52\n",
    "            elif v2 in [\"day\", \"days\"]:\n",
    "                result[k] = int(v1) / 365\n",
    "                \n",
    "    data['_AgeuponOutcome'] = data['AgeuponOutcome'].map(result).astype(float)\n",
    "    data = data.drop('AgeuponOutcome', axis = 1)\n",
    "                \n",
    "    return data\n",
    "\n",
    "data = convert_AgeuponOutcome_to_weeks(data)\n",
    "\n",
    "test = convert_AgeuponOutcome_to_weeks(test)"
   ]
  },
  {
   "cell_type": "markdown",
   "metadata": {},
   "source": [
    "Next, we look into the Age Upon Outcome feature variable. We believed that it is important to make the ages variable continuous, as opposed to categorical, as the relationship of age is continuous in nature. The most logical unit to standardize ages is weeks. "
   ]
  },
  {
   "cell_type": "code",
   "execution_count": 109,
   "metadata": {},
   "outputs": [
    {
     "data": {
      "text/plain": [
       "<matplotlib.axes._subplots.AxesSubplot at 0x7fd5bc5785c0>"
      ]
     },
     "execution_count": 109,
     "metadata": {},
     "output_type": "execute_result"
    },
    {
     "data": {
      "image/png": "[encoded data removed]",
      "text/plain": [
       "<Figure size 432x288 with 1 Axes>"
      ]
     },
     "metadata": {
      "needs_background": "light"
     },
     "output_type": "display_data"
    }
   ],
   "source": [
    "sns.distplot(data._AgeuponOutcome,bins=20, kde=False)"
   ]
  },
  {
   "cell_type": "markdown",
   "metadata": {},
   "source": [
    "From the information above, we can see that a more likely outcome for younger animals is to be transfered or adopted, while older animals are more likely to be returned to their owner or euthanized."
   ]
  },
  {
   "cell_type": "code",
   "execution_count": 110,
   "metadata": {},
   "outputs": [],
   "source": [
    "def calc_age_category(x):\n",
    "    if x  <3: return 'young'\n",
    "    if x  <5 and x>=3: return 'young adult'\n",
    "    if x  <10 and x>=5: return 'adult'\n",
    "    return 'old'\n",
    "data['_AgeuponOutcome']=data._AgeuponOutcome.apply(calc_age_category)\n",
    "\n",
    "test['_AgeuponOutcome']=test._AgeuponOutcome.apply(calc_age_category)"
   ]
  },
  {
   "cell_type": "code",
   "execution_count": 111,
   "metadata": {},
   "outputs": [
    {
     "data": {
      "text/html": [
       "<div>\n",
       "<style scoped>\n",
       "    .dataframe tbody tr th:only-of-type {\n",
       "        vertical-align: middle;\n",
       "    }\n",
       "\n",
       "    .dataframe tbody tr th {\n",
       "        vertical-align: top;\n",
       "    }\n",
       "\n",
       "    .dataframe thead th {\n",
       "        text-align: right;\n",
       "    }\n",
       "</style>\n",
       "<table border=\"1\" class=\"dataframe\">\n",
       "  <thead>\n",
       "    <tr style=\"text-align: right;\">\n",
       "      <th></th>\n",
       "      <th>Column Count</th>\n",
       "      <th>% Percent of Total Data</th>\n",
       "    </tr>\n",
       "  </thead>\n",
       "  <tbody>\n",
       "    <tr>\n",
       "      <th>AnimalID</th>\n",
       "      <td>26729</td>\n",
       "      <td>100.0</td>\n",
       "    </tr>\n",
       "    <tr>\n",
       "      <th>Name</th>\n",
       "      <td>19038</td>\n",
       "      <td>71.2</td>\n",
       "    </tr>\n",
       "    <tr>\n",
       "      <th>OutcomeType</th>\n",
       "      <td>26729</td>\n",
       "      <td>100.0</td>\n",
       "    </tr>\n",
       "    <tr>\n",
       "      <th>OutcomeSubtype</th>\n",
       "      <td>26729</td>\n",
       "      <td>100.0</td>\n",
       "    </tr>\n",
       "    <tr>\n",
       "      <th>AnimalType</th>\n",
       "      <td>26729</td>\n",
       "      <td>100.0</td>\n",
       "    </tr>\n",
       "    <tr>\n",
       "      <th>SexuponOutcome</th>\n",
       "      <td>26728</td>\n",
       "      <td>100.0</td>\n",
       "    </tr>\n",
       "    <tr>\n",
       "      <th>Breed</th>\n",
       "      <td>26729</td>\n",
       "      <td>100.0</td>\n",
       "    </tr>\n",
       "    <tr>\n",
       "      <th>Color</th>\n",
       "      <td>26729</td>\n",
       "      <td>100.0</td>\n",
       "    </tr>\n",
       "    <tr>\n",
       "      <th>Year</th>\n",
       "      <td>26729</td>\n",
       "      <td>100.0</td>\n",
       "    </tr>\n",
       "    <tr>\n",
       "      <th>Month</th>\n",
       "      <td>26729</td>\n",
       "      <td>100.0</td>\n",
       "    </tr>\n",
       "    <tr>\n",
       "      <th>Date</th>\n",
       "      <td>26729</td>\n",
       "      <td>100.0</td>\n",
       "    </tr>\n",
       "    <tr>\n",
       "      <th>Minute</th>\n",
       "      <td>26729</td>\n",
       "      <td>100.0</td>\n",
       "    </tr>\n",
       "    <tr>\n",
       "      <th>Hour</th>\n",
       "      <td>26729</td>\n",
       "      <td>100.0</td>\n",
       "    </tr>\n",
       "    <tr>\n",
       "      <th>_AgeuponOutcome</th>\n",
       "      <td>26729</td>\n",
       "      <td>100.0</td>\n",
       "    </tr>\n",
       "  </tbody>\n",
       "</table>\n",
       "</div>"
      ],
      "text/plain": [
       "                 Column Count  % Percent of Total Data\n",
       "AnimalID                26729                    100.0\n",
       "Name                    19038                     71.2\n",
       "OutcomeType             26729                    100.0\n",
       "OutcomeSubtype          26729                    100.0\n",
       "AnimalType              26729                    100.0\n",
       "SexuponOutcome          26728                    100.0\n",
       "Breed                   26729                    100.0\n",
       "Color                   26729                    100.0\n",
       "Year                    26729                    100.0\n",
       "Month                   26729                    100.0\n",
       "Date                    26729                    100.0\n",
       "Minute                  26729                    100.0\n",
       "Hour                    26729                    100.0\n",
       "_AgeuponOutcome         26729                    100.0"
      ]
     },
     "execution_count": 111,
     "metadata": {},
     "output_type": "execute_result"
    }
   ],
   "source": [
    "data1_counts = pd.DataFrame({'Column Count' : data.count(),\n",
    "   ....:                      '% Percent of Total Data' : data.count().div(max(data.count())) * 100})\n",
    "\n",
    "data1_counts.round(1)"
   ]
  },
  {
   "cell_type": "code",
   "execution_count": 112,
   "metadata": {},
   "outputs": [],
   "source": [
    "data['Name']=data['Name'].fillna('Timon')\n"
   ]
  },
  {
   "cell_type": "markdown",
   "metadata": {},
   "source": [
    "Naming the unnamed dogs,cats as TIMON"
   ]
  },
  {
   "cell_type": "code",
   "execution_count": null,
   "metadata": {},
   "outputs": [],
   "source": []
  },
  {
   "cell_type": "markdown",
   "metadata": {},
   "source": [
    "# Breed"
   ]
  },
  {
   "cell_type": "code",
   "execution_count": 113,
   "metadata": {},
   "outputs": [
    {
     "name": "stdout",
     "output_type": "stream",
     "text": [
      "Total number of breeds: 1380\n",
      "Number of cat breeds: 60\n",
      "Number of dog breeds: 1320\n"
     ]
    }
   ],
   "source": [
    "print ('Total number of breeds:', len(data['Breed'].unique()))\n",
    "print ('Number of cat breeds:', len(data[data['AnimalType'] == 'Cat']['Breed'].unique()))\n",
    "print ('Number of dog breeds:', len(data[data['AnimalType'] == 'Dog']['Breed'].unique()))\n"
   ]
  },
  {
   "cell_type": "markdown",
   "metadata": {},
   "source": [
    "Given the massive number of breeds (mostly for dogs) we may overfit w/ regard to breed. Here is the distribution of the (log) number of animals by breed for both animals. We can see there are a small number of breeds containing a large number of animals, and then many breeds with a very small number of animals."
   ]
  },
  {
   "cell_type": "code",
   "execution_count": 114,
   "metadata": {},
   "outputs": [],
   "source": [
    "from sklearn import preprocessing\n",
    "\n",
    "le = preprocessing.LabelEncoder()"
   ]
  },
  {
   "cell_type": "code",
   "execution_count": 115,
   "metadata": {},
   "outputs": [],
   "source": [
    "Cat=data['OutcomeType']\n",
    "le_res=le.fit_transform(data['OutcomeType'])\n",
    "y=pd.DataFrame(le_res)\n",
    "y.columns=['OutcomeType']\n"
   ]
  },
  {
   "cell_type": "code",
   "execution_count": 116,
   "metadata": {},
   "outputs": [],
   "source": [
    "x=data.Breed.str.contains(pat=\"Mix\", case=True,regex=True)\n",
    "Breed=pd.DataFrame(x)\n",
    "le_res=le.fit_transform(Breed)\n",
    "Breed=pd.DataFrame(le_res)\n",
    "Breed.columns=['Breed']\n",
    "data=data.drop(labels=['Breed'],axis=1)\n",
    "data=pd.concat([Breed,data],axis=1)"
   ]
  },
  {
   "cell_type": "code",
   "execution_count": 117,
   "metadata": {},
   "outputs": [
    {
     "data": {
      "text/plain": [
       "<bound method NDFrame.head of        Breed AnimalID        Name      OutcomeType   OutcomeSubtype  \\\n",
       "0          1  A671945     Hambone  Return_to_owner  Return to Owner   \n",
       "1          1  A656520       Emily       Euthanasia        Suffering   \n",
       "2          1  A686464      Pearce         Adoption           Foster   \n",
       "3          1  A683430       Timon         Transfer          Partner   \n",
       "4          0  A667013       Timon         Transfer          Partner   \n",
       "5          0  A677334        Elsa         Transfer          Partner   \n",
       "6          1  A699218       Jimmy         Transfer          Partner   \n",
       "7          1  A701489       Timon         Transfer          Partner   \n",
       "8          1  A671784        Lucy         Adoption          Adopted   \n",
       "9          0  A677747       Timon         Adoption          Offsite   \n",
       "10         1  A668402       Timon         Transfer             SCRP   \n",
       "11         1  A666320       Timon         Adoption          Adopted   \n",
       "12         1  A684601      Rocket         Adoption           Foster   \n",
       "13         1  A704702     Scooter  Return_to_owner  Return to Owner   \n",
       "14         1  A688584     Preston  Return_to_owner  Return to Owner   \n",
       "15         1  A678825      Oliver         Adoption           Foster   \n",
       "16         1  A678050       Timon         Transfer          Partner   \n",
       "17         1  A680028       Timon         Transfer          Partner   \n",
       "18         1  A679010     Chrissy         Transfer          Partner   \n",
       "19         1  A684787        Kuma  Return_to_owner  Return to Owner   \n",
       "20         1  A670658      Anders         Transfer          Partner   \n",
       "21         1  A708812    Munchkin         Transfer          Partner   \n",
       "22         0  A705262     Jamaica         Adoption          Adopted   \n",
       "23         1  A665781     Quattro         Adoption          Adopted   \n",
       "24         1  A676333     Trigger  Return_to_owner  Return to Owner   \n",
       "25         1  A712750       Olive         Transfer          Partner   \n",
       "26         1  A718832         Nia         Adoption          Adopted   \n",
       "27         1  A698777       Chloe         Adoption          Adopted   \n",
       "28         1  A715348     Cymbale         Adoption          Adopted   \n",
       "29         1  A708666         Jax  Return_to_owner  Return to Owner   \n",
       "...      ...      ...         ...              ...              ...   \n",
       "26699      1  A676460       Mario       Euthanasia         Behavior   \n",
       "26700      0  A704999        Lion  Return_to_owner  Return to Owner   \n",
       "26701      1  A678842        Ella         Transfer          Partner   \n",
       "26702      1  A713637       Timon             Died        In Kennel   \n",
       "26703      1  A716670      Mowmow         Transfer          Partner   \n",
       "26704      1  A716223       Alice         Transfer          Partner   \n",
       "26705      1  A662498       Grace         Transfer          Partner   \n",
       "26706      1  A689942        Zoey         Adoption          Adopted   \n",
       "26707      1  A682690       Timon       Euthanasia        Suffering   \n",
       "26708      1  A666920      Herbie         Transfer          Partner   \n",
       "26709      1  A714386       Timon         Adoption          Adopted   \n",
       "26710      0  A692622      Bonnie         Transfer          Partner   \n",
       "26711      0  A666284       Sonja         Transfer          Partner   \n",
       "26712      0  A535277      Merlin  Return_to_owner  Return to Owner   \n",
       "26713      1  A671169       Timon       Euthanasia        Suffering   \n",
       "26714      1  A679031        Pete         Adoption          Adopted   \n",
       "26715      1  A708833        Luna         Adoption          Adopted   \n",
       "26716      1  A697158         Max         Adoption          Offsite   \n",
       "26717      1  A519949       Bella  Return_to_owner  Return to Owner   \n",
       "26718      0  A701044       Timon         Adoption          Adopted   \n",
       "26719      1  A707871       Timon         Transfer             SCRP   \n",
       "26720      1  A704405     Brownie         Adoption          Adopted   \n",
       "26721      1  A662019  Green Bean         Adoption           Foster   \n",
       "26722      1  A687056       Timon         Transfer             SCRP   \n",
       "26723      1  A716997        Zeus         Adoption          Adopted   \n",
       "26724      1  A702446       Timon         Transfer          Partner   \n",
       "26725      1  A718934       Timon         Transfer             SCRP   \n",
       "26726      1  A698128        Zeus         Adoption          Adopted   \n",
       "26727      1  A677478       Timon         Transfer          Partner   \n",
       "26728      1  A706629       Timon         Transfer             SCRP   \n",
       "\n",
       "      AnimalType SexuponOutcome                Color  Year  Month  Date  \\\n",
       "0            Dog  Neutered Male          Brown/White  2014      2    12   \n",
       "1            Cat  Spayed Female          Cream Tabby  2013     10    13   \n",
       "2            Dog  Neutered Male           Blue/White  2015      1    31   \n",
       "3            Cat    Intact Male           Blue Cream  2014      7    11   \n",
       "4            Dog  Neutered Male                  Tan  2013     11    15   \n",
       "5            Dog  Intact Female            Black/Tan  2014      4    25   \n",
       "6            Cat    Intact Male           Blue Tabby  2015      3    28   \n",
       "7            Cat        Unknown          Brown Tabby  2015      4    30   \n",
       "8            Dog  Spayed Female            Red/White  2014      2     4   \n",
       "9            Dog  Spayed Female                White  2014      5     3   \n",
       "10           Cat        Unknown                Black  2013     12     5   \n",
       "11           Dog  Spayed Female               Silver  2013     11     4   \n",
       "12           Dog  Neutered Male                Brown  2016      2     3   \n",
       "13           Dog  Neutered Male            Black/Red  2015      6     8   \n",
       "14           Dog  Neutered Male          White/Cream  2015     11    25   \n",
       "15           Cat  Neutered Male   Orange Tabby/White  2014      7    12   \n",
       "16           Cat    Intact Male          Brown Tabby  2014      5     3   \n",
       "17           Dog  Intact Female          Brown/White  2014      6     7   \n",
       "18           Cat  Intact Female                White  2014      5    17   \n",
       "19           Dog  Neutered Male                Black  2014      7    30   \n",
       "20           Dog    Intact Male          Black/White  2014      1    19   \n",
       "21           Cat  Spayed Female                White  2015      9    18   \n",
       "22           Dog  Spayed Female  Brown Brindle/White  2015      8    15   \n",
       "23           Dog  Neutered Male          Brown/White  2013     10    28   \n",
       "24           Dog  Neutered Male          Black/Brown  2014      4     9   \n",
       "25           Cat  Intact Female         Orange Tabby  2015     10     3   \n",
       "26           Dog  Spayed Female      Chocolate/White  2016      1    15   \n",
       "27           Dog  Spayed Female            White/Tan  2015      3    25   \n",
       "28           Cat  Spayed Female    Cream Tabby/White  2015     11    21   \n",
       "29           Cat  Neutered Male                 Blue  2015      7    30   \n",
       "...          ...            ...                  ...   ...    ...   ...   \n",
       "26699        Dog  Neutered Male          White/Black  2014      4    21   \n",
       "26700        Dog    Intact Male            Tan/Cream  2015      6    15   \n",
       "26701        Dog  Intact Female          White/Black  2014      6    15   \n",
       "26702        Cat  Spayed Female           Lynx Point  2015     10    11   \n",
       "26703        Cat  Neutered Male           Seal Point  2015     12     4   \n",
       "26704        Cat  Intact Female          White/Black  2015     11    17   \n",
       "26705        Cat  Intact Female               Tortie  2013     10    19   \n",
       "26706        Cat  Spayed Female                Black  2014     10    19   \n",
       "26707        Cat        Unknown          Brown Tabby  2014      7     1   \n",
       "26708        Dog  Neutered Male          White/Brown  2013     11    13   \n",
       "26709        Dog  Spayed Female           Sable/Buff  2015     10    24   \n",
       "26710        Dog  Intact Female          Brown/Black  2014     11    24   \n",
       "26711        Dog  Intact Female                 Buff  2013     10    30   \n",
       "26712        Dog  Neutered Male        Chocolate/Tan  2015      4    20   \n",
       "26713        Cat  Intact Female               Tortie  2014      1    20   \n",
       "26714        Cat  Spayed Female         Orange Tabby  2014      5    31   \n",
       "26715        Dog  Spayed Female          Black/White  2015      8     5   \n",
       "26716        Dog  Neutered Male          White/Black  2015      5     2   \n",
       "26717        Dog  Spayed Female                Black  2014      6    30   \n",
       "26718        Dog  Neutered Male       Black/Tricolor  2015      4    28   \n",
       "26719        Cat        Unknown    Brown Tabby/White  2015      7    20   \n",
       "26720        Cat  Spayed Female          Brown Tabby  2015      7    18   \n",
       "26721        Cat  Spayed Female                Black  2014      7    17   \n",
       "26722        Cat    Intact Male         Orange Tabby  2014      8    31   \n",
       "26723        Dog  Neutered Male           Blue/White  2016      1    29   \n",
       "26724        Cat    Intact Male    Brown Tabby/White  2015      5    14   \n",
       "26725        Cat  Spayed Female          Brown Tabby  2016      1    20   \n",
       "26726        Dog  Neutered Male            White/Tan  2015      3     9   \n",
       "26727        Cat    Intact Male                Black  2014      4    27   \n",
       "26728        Cat    Intact Male    Brown Tabby/White  2015      7     2   \n",
       "\n",
       "       Minute  Hour _AgeuponOutcome  \n",
       "0          22    18           young  \n",
       "1          44    12           young  \n",
       "2          28    12           young  \n",
       "3           9    19           young  \n",
       "4          52    12           young  \n",
       "5           4    13           young  \n",
       "6          11    13           young  \n",
       "7           2    17           young  \n",
       "8          17    17           young  \n",
       "9          48     7           young  \n",
       "10         50    15           young  \n",
       "11         48    14           young  \n",
       "12         27    11     young adult  \n",
       "13         30    16           young  \n",
       "14          0    15           young  \n",
       "15         10    12           young  \n",
       "16         15    16           young  \n",
       "17         54    12           young  \n",
       "18         32    11           young  \n",
       "19         34    17           young  \n",
       "20          3    15           young  \n",
       "21         19    15           young  \n",
       "22         22    14           young  \n",
       "23         32    16           young  \n",
       "24         44    17           young  \n",
       "25         44    15           young  \n",
       "26         31    17           young  \n",
       "27         50    18           adult  \n",
       "28          1    13           young  \n",
       "29         30    14           adult  \n",
       "...       ...   ...             ...  \n",
       "26699       1    14           young  \n",
       "26700      28    19           young  \n",
       "26701      41    17           young  \n",
       "26702      42     9           young  \n",
       "26703      22    12           adult  \n",
       "26704      17    17           young  \n",
       "26705      34    15           young  \n",
       "26706      29    13           young  \n",
       "26707       6    17           young  \n",
       "26708      32    17           young  \n",
       "26709       0     0           young  \n",
       "26710      21    17           young  \n",
       "26711      32    18           young  \n",
       "26712       4    16             old  \n",
       "26713      37    17             old  \n",
       "26714      11    16           young  \n",
       "26715       3    17           young  \n",
       "26716       4    21           young  \n",
       "26717      34    17           adult  \n",
       "26718      26    14           young  \n",
       "26719       0     9           young  \n",
       "26720       8    14           young  \n",
       "26721      43     9           adult  \n",
       "26722       0     9           young  \n",
       "26723      52    18           adult  \n",
       "26724      56    11           young  \n",
       "26725      59    18           young  \n",
       "26726      33    13     young adult  \n",
       "26727      22    12           young  \n",
       "26728       0     9           young  \n",
       "\n",
       "[26729 rows x 14 columns]>"
      ]
     },
     "execution_count": 117,
     "metadata": {},
     "output_type": "execute_result"
    }
   ],
   "source": [
    "data.head"
   ]
  },
  {
   "cell_type": "markdown",
   "metadata": {},
   "source": [
    "# LabelEncoding"
   ]
  },
  {
   "cell_type": "code",
   "execution_count": 118,
   "metadata": {},
   "outputs": [],
   "source": [
    "#Train set\n",
    "le_res=le.fit_transform(data['_AgeuponOutcome'])\n",
    "_AgeuponOutcome=pd.DataFrame(le_res)\n",
    "_AgeuponOutcome.columns=['_AgeuponOutcome']\n",
    "data=data.drop(labels=['_AgeuponOutcome'],axis=1)\n",
    "data=pd.concat([_AgeuponOutcome,data],axis=1)\n",
    "\n",
    "#Test set\n",
    "le_res_test=le.fit_transform(test['_AgeuponOutcome'])\n",
    "_AgeuponOutcome_test=pd.DataFrame(le_res_test)\n",
    "_AgeuponOutcome_test.columns=['_AgeuponOutcome']\n",
    "test=test.drop(labels=['_AgeuponOutcome'],axis=1)\n",
    "test=pd.concat([_AgeuponOutcome_test,test],axis=1)"
   ]
  },
  {
   "cell_type": "code",
   "execution_count": 119,
   "metadata": {},
   "outputs": [],
   "source": [
    "#Train set \n",
    "le_res=le.fit_transform(data['Breed'])\n",
    "Breed=pd.DataFrame(le_res)\n",
    "Breed.columns=['Breed']\n",
    "data=data.drop(labels=['Breed'],axis=1)\n",
    "data=pd.concat([Breed,data],axis=1)\n",
    "\n",
    "#Test set\n",
    "le_res_test=le.fit_transform(test['Breed'])\n",
    "Breed_test=pd.DataFrame(le_res_test)\n",
    "Breed_test.columns=['Breed']\n",
    "test=test.drop(labels=['Breed'],axis=1)\n",
    "test=pd.concat([Breed_test,test],axis=1)"
   ]
  },
  {
   "cell_type": "code",
   "execution_count": 120,
   "metadata": {},
   "outputs": [],
   "source": [
    "data[\"SexuponOutcome\"]=data[\"SexuponOutcome\"].fillna(\"Unknown\")\n",
    "\n",
    "test[\"SexuponOutcome\"]=test[\"SexuponOutcome\"].fillna(\"Unknown\")"
   ]
  },
  {
   "cell_type": "code",
   "execution_count": 121,
   "metadata": {},
   "outputs": [],
   "source": [
    "#Train set\n",
    "le_res=le.fit_transform(data['SexuponOutcome'])\n",
    "SexuponOutcome=pd.DataFrame(le_res)\n",
    "SexuponOutcome.columns=['SexuponOutcome']\n",
    "data=data.drop(labels=['SexuponOutcome'],axis=1)\n",
    "data=pd.concat([SexuponOutcome,data],axis=1)\n"
   ]
  },
  {
   "cell_type": "code",
   "execution_count": 122,
   "metadata": {},
   "outputs": [],
   "source": [
    "#Test set\n",
    "le_res_test=le.fit_transform(test['SexuponOutcome'])\n",
    "SexuponOutcome_test=pd.DataFrame(le_res_test)\n",
    "SexuponOutcome_test.columns=['SexuponOutcome']\n",
    "test=test.drop(labels=['SexuponOutcome'],axis=1)\n",
    "test=pd.concat([SexuponOutcome_test,test],axis=1)"
   ]
  },
  {
   "cell_type": "code",
   "execution_count": 123,
   "metadata": {},
   "outputs": [],
   "source": [
    "data['AnimalType']=data['AnimalType'].apply(lambda x:1 if x in('Dog') else 0)\n",
    "\n",
    "test['AnimalType']=test['AnimalType'].apply(lambda x:1 if x in('Dog') else 0)"
   ]
  },
  {
   "cell_type": "code",
   "execution_count": 124,
   "metadata": {},
   "outputs": [],
   "source": [
    "data['Month']=data['Month'].apply(lambda x : 0 if x <4 else (1 if x <8 else (2)))"
   ]
  },
  {
   "cell_type": "code",
   "execution_count": 125,
   "metadata": {},
   "outputs": [],
   "source": [
    "data['OutcomeType']=le.fit_transform(data['OutcomeType'])"
   ]
  },
  {
   "cell_type": "code",
   "execution_count": 126,
   "metadata": {},
   "outputs": [
    {
     "data": {
      "text/html": [
       "<div>\n",
       "<style scoped>\n",
       "    .dataframe tbody tr th:only-of-type {\n",
       "        vertical-align: middle;\n",
       "    }\n",
       "\n",
       "    .dataframe tbody tr th {\n",
       "        vertical-align: top;\n",
       "    }\n",
       "\n",
       "    .dataframe thead th {\n",
       "        text-align: right;\n",
       "    }\n",
       "</style>\n",
       "<table border=\"1\" class=\"dataframe\">\n",
       "  <thead>\n",
       "    <tr style=\"text-align: right;\">\n",
       "      <th></th>\n",
       "      <th>SexuponOutcome</th>\n",
       "      <th>Breed</th>\n",
       "      <th>_AgeuponOutcome</th>\n",
       "      <th>OutcomeType</th>\n",
       "      <th>AnimalType</th>\n",
       "      <th>Year</th>\n",
       "      <th>Month</th>\n",
       "      <th>Date</th>\n",
       "      <th>Minute</th>\n",
       "      <th>Hour</th>\n",
       "    </tr>\n",
       "  </thead>\n",
       "  <tbody>\n",
       "    <tr>\n",
       "      <th>SexuponOutcome</th>\n",
       "      <td>1.000000</td>\n",
       "      <td>-0.043571</td>\n",
       "      <td>-0.035781</td>\n",
       "      <td>-0.316375</td>\n",
       "      <td>0.092184</td>\n",
       "      <td>0.064750</td>\n",
       "      <td>-0.040418</td>\n",
       "      <td>-0.019887</td>\n",
       "      <td>0.042274</td>\n",
       "      <td>0.121099</td>\n",
       "    </tr>\n",
       "    <tr>\n",
       "      <th>Breed</th>\n",
       "      <td>-0.043571</td>\n",
       "      <td>1.000000</td>\n",
       "      <td>0.034226</td>\n",
       "      <td>0.048857</td>\n",
       "      <td>-0.319317</td>\n",
       "      <td>0.022467</td>\n",
       "      <td>0.050743</td>\n",
       "      <td>0.004810</td>\n",
       "      <td>-0.019058</td>\n",
       "      <td>-0.040409</td>\n",
       "    </tr>\n",
       "    <tr>\n",
       "      <th>_AgeuponOutcome</th>\n",
       "      <td>-0.035781</td>\n",
       "      <td>0.034226</td>\n",
       "      <td>1.000000</td>\n",
       "      <td>-0.025823</td>\n",
       "      <td>-0.070797</td>\n",
       "      <td>-0.012944</td>\n",
       "      <td>0.012951</td>\n",
       "      <td>0.005532</td>\n",
       "      <td>-0.005235</td>\n",
       "      <td>0.019601</td>\n",
       "    </tr>\n",
       "    <tr>\n",
       "      <th>OutcomeType</th>\n",
       "      <td>-0.316375</td>\n",
       "      <td>0.048857</td>\n",
       "      <td>-0.025823</td>\n",
       "      <td>1.000000</td>\n",
       "      <td>-0.086064</td>\n",
       "      <td>-0.020392</td>\n",
       "      <td>0.007657</td>\n",
       "      <td>-0.002716</td>\n",
       "      <td>-0.084680</td>\n",
       "      <td>-0.252149</td>\n",
       "    </tr>\n",
       "    <tr>\n",
       "      <th>AnimalType</th>\n",
       "      <td>0.092184</td>\n",
       "      <td>-0.319317</td>\n",
       "      <td>-0.070797</td>\n",
       "      <td>-0.086064</td>\n",
       "      <td>1.000000</td>\n",
       "      <td>0.007345</td>\n",
       "      <td>-0.086570</td>\n",
       "      <td>-0.016706</td>\n",
       "      <td>0.052667</td>\n",
       "      <td>0.109835</td>\n",
       "    </tr>\n",
       "    <tr>\n",
       "      <th>Year</th>\n",
       "      <td>0.064750</td>\n",
       "      <td>0.022467</td>\n",
       "      <td>-0.012944</td>\n",
       "      <td>-0.020392</td>\n",
       "      <td>0.007345</td>\n",
       "      <td>1.000000</td>\n",
       "      <td>-0.358674</td>\n",
       "      <td>-0.011404</td>\n",
       "      <td>-0.029248</td>\n",
       "      <td>-0.065426</td>\n",
       "    </tr>\n",
       "    <tr>\n",
       "      <th>Month</th>\n",
       "      <td>-0.040418</td>\n",
       "      <td>0.050743</td>\n",
       "      <td>0.012951</td>\n",
       "      <td>0.007657</td>\n",
       "      <td>-0.086570</td>\n",
       "      <td>-0.358674</td>\n",
       "      <td>1.000000</td>\n",
       "      <td>0.027120</td>\n",
       "      <td>-0.011629</td>\n",
       "      <td>-0.022732</td>\n",
       "    </tr>\n",
       "    <tr>\n",
       "      <th>Date</th>\n",
       "      <td>-0.019887</td>\n",
       "      <td>0.004810</td>\n",
       "      <td>0.005532</td>\n",
       "      <td>-0.002716</td>\n",
       "      <td>-0.016706</td>\n",
       "      <td>-0.011404</td>\n",
       "      <td>0.027120</td>\n",
       "      <td>1.000000</td>\n",
       "      <td>-0.005663</td>\n",
       "      <td>-0.004590</td>\n",
       "    </tr>\n",
       "    <tr>\n",
       "      <th>Minute</th>\n",
       "      <td>0.042274</td>\n",
       "      <td>-0.019058</td>\n",
       "      <td>-0.005235</td>\n",
       "      <td>-0.084680</td>\n",
       "      <td>0.052667</td>\n",
       "      <td>-0.029248</td>\n",
       "      <td>-0.011629</td>\n",
       "      <td>-0.005663</td>\n",
       "      <td>1.000000</td>\n",
       "      <td>0.132265</td>\n",
       "    </tr>\n",
       "    <tr>\n",
       "      <th>Hour</th>\n",
       "      <td>0.121099</td>\n",
       "      <td>-0.040409</td>\n",
       "      <td>0.019601</td>\n",
       "      <td>-0.252149</td>\n",
       "      <td>0.109835</td>\n",
       "      <td>-0.065426</td>\n",
       "      <td>-0.022732</td>\n",
       "      <td>-0.004590</td>\n",
       "      <td>0.132265</td>\n",
       "      <td>1.000000</td>\n",
       "    </tr>\n",
       "  </tbody>\n",
       "</table>\n",
       "</div>"
      ],
      "text/plain": [
       "                 SexuponOutcome     Breed  _AgeuponOutcome  OutcomeType  \\\n",
       "SexuponOutcome         1.000000 -0.043571        -0.035781    -0.316375   \n",
       "Breed                 -0.043571  1.000000         0.034226     0.048857   \n",
       "_AgeuponOutcome       -0.035781  0.034226         1.000000    -0.025823   \n",
       "OutcomeType           -0.316375  0.048857        -0.025823     1.000000   \n",
       "AnimalType             0.092184 -0.319317        -0.070797    -0.086064   \n",
       "Year                   0.064750  0.022467        -0.012944    -0.020392   \n",
       "Month                 -0.040418  0.050743         0.012951     0.007657   \n",
       "Date                  -0.019887  0.004810         0.005532    -0.002716   \n",
       "Minute                 0.042274 -0.019058        -0.005235    -0.084680   \n",
       "Hour                   0.121099 -0.040409         0.019601    -0.252149   \n",
       "\n",
       "                 AnimalType      Year     Month      Date    Minute      Hour  \n",
       "SexuponOutcome     0.092184  0.064750 -0.040418 -0.019887  0.042274  0.121099  \n",
       "Breed             -0.319317  0.022467  0.050743  0.004810 -0.019058 -0.040409  \n",
       "_AgeuponOutcome   -0.070797 -0.012944  0.012951  0.005532 -0.005235  0.019601  \n",
       "OutcomeType       -0.086064 -0.020392  0.007657 -0.002716 -0.084680 -0.252149  \n",
       "AnimalType         1.000000  0.007345 -0.086570 -0.016706  0.052667  0.109835  \n",
       "Year               0.007345  1.000000 -0.358674 -0.011404 -0.029248 -0.065426  \n",
       "Month             -0.086570 -0.358674  1.000000  0.027120 -0.011629 -0.022732  \n",
       "Date              -0.016706 -0.011404  0.027120  1.000000 -0.005663 -0.004590  \n",
       "Minute             0.052667 -0.029248 -0.011629 -0.005663  1.000000  0.132265  \n",
       "Hour               0.109835 -0.065426 -0.022732 -0.004590  0.132265  1.000000  "
      ]
     },
     "execution_count": 126,
     "metadata": {},
     "output_type": "execute_result"
    }
   ],
   "source": [
    "corre=data.corr()\n",
    "corre"
   ]
  },
  {
   "cell_type": "code",
   "execution_count": 127,
   "metadata": {},
   "outputs": [
    {
     "data": {
      "text/plain": [
       "<matplotlib.axes._subplots.AxesSubplot at 0x7fd5bc69b828>"
      ]
     },
     "execution_count": 127,
     "metadata": {},
     "output_type": "execute_result"
    },
    {
     "data": {
      "image/png": "[encoded data removed]",
      "text/plain": [
       "<Figure size 432x288 with 2 Axes>"
      ]
     },
     "metadata": {
      "needs_background": "light"
     },
     "output_type": "display_data"
    }
   ],
   "source": [
    "sns.heatmap(corre,linewidths=2, cmap=\"coolwarm\")"
   ]
  },
  {
   "cell_type": "markdown",
   "metadata": {},
   "source": [
    "# Dropping Unnecesary Columns"
   ]
  },
  {
   "cell_type": "code",
   "execution_count": 128,
   "metadata": {},
   "outputs": [],
   "source": [
    "data=data.drop(labels=['AnimalID'],axis=1)"
   ]
  },
  {
   "cell_type": "code",
   "execution_count": 129,
   "metadata": {},
   "outputs": [],
   "source": [
    "data=data.drop(labels=['OutcomeType'],axis=1)"
   ]
  },
  {
   "cell_type": "code",
   "execution_count": 130,
   "metadata": {},
   "outputs": [],
   "source": [
    "data=data.drop(labels=['OutcomeSubtype','Color','Name'],axis=1)\n",
    "\n",
    "test=test.drop(labels=['Color','Name'],axis=1)"
   ]
  },
  {
   "cell_type": "code",
   "execution_count": 131,
   "metadata": {},
   "outputs": [
    {
     "data": {
      "text/html": [
       "<div>\n",
       "<style scoped>\n",
       "    .dataframe tbody tr th:only-of-type {\n",
       "        vertical-align: middle;\n",
       "    }\n",
       "\n",
       "    .dataframe tbody tr th {\n",
       "        vertical-align: top;\n",
       "    }\n",
       "\n",
       "    .dataframe thead th {\n",
       "        text-align: right;\n",
       "    }\n",
       "</style>\n",
       "<table border=\"1\" class=\"dataframe\">\n",
       "  <thead>\n",
       "    <tr style=\"text-align: right;\">\n",
       "      <th></th>\n",
       "      <th>SexuponOutcome</th>\n",
       "      <th>Breed</th>\n",
       "      <th>_AgeuponOutcome</th>\n",
       "      <th>AnimalType</th>\n",
       "      <th>Year</th>\n",
       "      <th>Month</th>\n",
       "      <th>Date</th>\n",
       "      <th>Minute</th>\n",
       "      <th>Hour</th>\n",
       "    </tr>\n",
       "  </thead>\n",
       "  <tbody>\n",
       "    <tr>\n",
       "      <th>0</th>\n",
       "      <td>2</td>\n",
       "      <td>1</td>\n",
       "      <td>2</td>\n",
       "      <td>1</td>\n",
       "      <td>2014</td>\n",
       "      <td>0</td>\n",
       "      <td>12</td>\n",
       "      <td>22</td>\n",
       "      <td>18</td>\n",
       "    </tr>\n",
       "    <tr>\n",
       "      <th>1</th>\n",
       "      <td>3</td>\n",
       "      <td>1</td>\n",
       "      <td>2</td>\n",
       "      <td>0</td>\n",
       "      <td>2013</td>\n",
       "      <td>2</td>\n",
       "      <td>13</td>\n",
       "      <td>44</td>\n",
       "      <td>12</td>\n",
       "    </tr>\n",
       "    <tr>\n",
       "      <th>2</th>\n",
       "      <td>2</td>\n",
       "      <td>1</td>\n",
       "      <td>2</td>\n",
       "      <td>1</td>\n",
       "      <td>2015</td>\n",
       "      <td>0</td>\n",
       "      <td>31</td>\n",
       "      <td>28</td>\n",
       "      <td>12</td>\n",
       "    </tr>\n",
       "    <tr>\n",
       "      <th>3</th>\n",
       "      <td>1</td>\n",
       "      <td>1</td>\n",
       "      <td>2</td>\n",
       "      <td>0</td>\n",
       "      <td>2014</td>\n",
       "      <td>1</td>\n",
       "      <td>11</td>\n",
       "      <td>9</td>\n",
       "      <td>19</td>\n",
       "    </tr>\n",
       "    <tr>\n",
       "      <th>4</th>\n",
       "      <td>2</td>\n",
       "      <td>0</td>\n",
       "      <td>2</td>\n",
       "      <td>1</td>\n",
       "      <td>2013</td>\n",
       "      <td>2</td>\n",
       "      <td>15</td>\n",
       "      <td>52</td>\n",
       "      <td>12</td>\n",
       "    </tr>\n",
       "  </tbody>\n",
       "</table>\n",
       "</div>"
      ],
      "text/plain": [
       "   SexuponOutcome  Breed  _AgeuponOutcome  AnimalType  Year  Month  Date  \\\n",
       "0               2      1                2           1  2014      0    12   \n",
       "1               3      1                2           0  2013      2    13   \n",
       "2               2      1                2           1  2015      0    31   \n",
       "3               1      1                2           0  2014      1    11   \n",
       "4               2      0                2           1  2013      2    15   \n",
       "\n",
       "   Minute  Hour  \n",
       "0      22    18  \n",
       "1      44    12  \n",
       "2      28    12  \n",
       "3       9    19  \n",
       "4      52    12  "
      ]
     },
     "execution_count": 131,
     "metadata": {},
     "output_type": "execute_result"
    }
   ],
   "source": [
    "data.head()"
   ]
  },
  {
   "cell_type": "markdown",
   "metadata": {},
   "source": [
    "# Splitting train and test"
   ]
  },
  {
   "cell_type": "code",
   "execution_count": 132,
   "metadata": {},
   "outputs": [],
   "source": [
    "X=data"
   ]
  },
  {
   "cell_type": "code",
   "execution_count": 133,
   "metadata": {},
   "outputs": [],
   "source": [
    "X_train,X_test,y_train,y_test=train_test_split(X,y,test_size=0.2,random_state=4)"
   ]
  },
  {
   "cell_type": "markdown",
   "metadata": {},
   "source": [
    "# Importance of Features"
   ]
  },
  {
   "cell_type": "markdown",
   "metadata": {},
   "source": [
    "# Logistic Regression "
   ]
  },
  {
   "cell_type": "code",
   "execution_count": 169,
   "metadata": {},
   "outputs": [
    {
     "data": {
      "text/plain": [
       "array([1, 1, 1, 1, 5, 2, 3, 4, 1])"
      ]
     },
     "execution_count": 169,
     "metadata": {},
     "output_type": "execute_result"
    }
   ],
   "source": [
    "from sklearn.linear_model import LogisticRegression\n",
    "from sklearn.feature_selection import RFE\n",
    "classifier = LogisticRegression(penalty='l2',random_state = 0,class_weight='balanced',multi_class='multinomial', \n",
    "                                solver='lbfgs',n_jobs=-1)\n",
    "selector = RFE(classifier, 5, step=1)\n",
    "selector = selector.fit(X, y)\n",
    "selector.support_\n",
    "selector.ranking_"
   ]
  },
  {
   "cell_type": "code",
   "execution_count": 135,
   "metadata": {},
   "outputs": [],
   "source": [
    "from sklearn.linear_model import LogisticRegression"
   ]
  },
  {
   "cell_type": "code",
   "execution_count": 136,
   "metadata": {},
   "outputs": [],
   "source": [
    "import pickle"
   ]
  },
  {
   "cell_type": "code",
   "execution_count": 137,
   "metadata": {},
   "outputs": [],
   "source": [
    "filename = 'logistic_model.sav'\n",
    "pickle.dump(classifier, open(filename, 'wb'))"
   ]
  },
  {
   "cell_type": "code",
   "execution_count": 138,
   "metadata": {},
   "outputs": [],
   "source": [
    "loaded_model = pickle.load(open(filename, 'rb'))"
   ]
  },
  {
   "cell_type": "code",
   "execution_count": 139,
   "metadata": {},
   "outputs": [
    {
     "data": {
      "text/plain": [
       "LogisticRegression(C=1.0, class_weight='balanced', dual=False,\n",
       "                   fit_intercept=True, intercept_scaling=1, l1_ratio=None,\n",
       "                   max_iter=100, multi_class='multinomial', n_jobs=-1,\n",
       "                   penalty='l2', random_state=0, solver='lbfgs', tol=0.0001,\n",
       "                   verbose=0, warm_start=False)"
      ]
     },
     "execution_count": 139,
     "metadata": {},
     "output_type": "execute_result"
    }
   ],
   "source": [
    "loaded_model.fit(X_train,y_train)"
   ]
  },
  {
   "cell_type": "code",
   "execution_count": 140,
   "metadata": {},
   "outputs": [],
   "source": [
    "y_pred=loaded_model.predict_proba(X_test)"
   ]
  },
  {
   "cell_type": "code",
   "execution_count": 141,
   "metadata": {},
   "outputs": [
    {
     "data": {
      "text/plain": [
       "1.4594995225944294"
      ]
     },
     "execution_count": 141,
     "metadata": {},
     "output_type": "execute_result"
    }
   ],
   "source": [
    "ll = log_loss(y_test,y_pred)\n",
    "ll"
   ]
  },
  {
   "cell_type": "markdown",
   "metadata": {},
   "source": [
    "# XGBOOST"
   ]
  },
  {
   "cell_type": "code",
   "execution_count": 170,
   "metadata": {},
   "outputs": [
    {
     "data": {
      "text/plain": [
       "array([1, 4, 1, 1, 2, 3, 5, 1, 1])"
      ]
     },
     "execution_count": 170,
     "metadata": {},
     "output_type": "execute_result"
    }
   ],
   "source": [
    "from xgboost import XGBClassifier\n",
    "import xgboost as xgb\n",
    "from sklearn.feature_selection import RFE\n",
    "model = xgb.XGBClassifier(objective='multi:softprob')\n",
    "selector = RFE(model, 5, step=1)\n",
    "selector = selector.fit(X, y)\n",
    "selector.support_\n",
    "selector.ranking_"
   ]
  },
  {
   "cell_type": "code",
   "execution_count": 143,
   "metadata": {},
   "outputs": [],
   "source": [
    "from xgboost import XGBClassifier\n",
    "import xgboost as xgb"
   ]
  },
  {
   "cell_type": "code",
   "execution_count": 144,
   "metadata": {},
   "outputs": [],
   "source": [
    "filename = 'xgboost_model.sav'\n",
    "pickle.dump(model, open(filename, 'wb'))\n"
   ]
  },
  {
   "cell_type": "code",
   "execution_count": 145,
   "metadata": {},
   "outputs": [
    {
     "data": {
      "text/plain": [
       "XGBClassifier(base_score=0.5, booster='gbtree', colsample_bylevel=1,\n",
       "              colsample_bynode=1, colsample_bytree=1, gamma=0,\n",
       "              learning_rate=0.1, max_delta_step=0, max_depth=3,\n",
       "              min_child_weight=1, missing=nan, n_estimators=100, n_jobs=1,\n",
       "              nthread=None, objective='multi:softprob', random_state=0,\n",
       "              reg_alpha=0, reg_lambda=1, scale_pos_weight=1, seed=None,\n",
       "              silent=None, subsample=1, verbosity=1)"
      ]
     },
     "execution_count": 145,
     "metadata": {},
     "output_type": "execute_result"
    }
   ],
   "source": [
    "loaded_model = pickle.load(open(filename, 'rb'))\n",
    "loaded_model.fit(X_train, y_train)"
   ]
  },
  {
   "cell_type": "code",
   "execution_count": 146,
   "metadata": {},
   "outputs": [],
   "source": [
    "y_pred=loaded_model.predict_proba(X_test)"
   ]
  },
  {
   "cell_type": "code",
   "execution_count": 147,
   "metadata": {},
   "outputs": [
    {
     "data": {
      "text/plain": [
       "0.8691580911528276"
      ]
     },
     "execution_count": 147,
     "metadata": {},
     "output_type": "execute_result"
    }
   ],
   "source": [
    "ll = log_loss(y_test,y_pred)\n",
    "ll"
   ]
  },
  {
   "cell_type": "code",
   "execution_count": 148,
   "metadata": {},
   "outputs": [
    {
     "data": {
      "text/plain": [
       "<matplotlib.axes._subplots.AxesSubplot at 0x7fd5c75a0358>"
      ]
     },
     "execution_count": 148,
     "metadata": {},
     "output_type": "execute_result"
    },
    {
     "data": {
      "image/png": "[encoded data removed]",
      "text/plain": [
       "<Figure size 432x288 with 1 Axes>"
      ]
     },
     "metadata": {
      "needs_background": "light"
     },
     "output_type": "display_data"
    }
   ],
   "source": [
    "xgb.plot_importance(loaded_model)"
   ]
  },
  {
   "cell_type": "markdown",
   "metadata": {},
   "source": [
    "# XGBOOST PARAMETER TUNING"
   ]
  },
  {
   "cell_type": "code",
   "execution_count": 149,
   "metadata": {},
   "outputs": [],
   "source": [
    "HYPER_PARAMS = { \n",
    " 'learning_rate': 0.20,\n",
    " 'n_estimators':0,\n",
    " 'max_depth': 5,\n",
    " 'subsample': 0.7,\n",
    " 'colsample_bytree': 0.9,\n",
    " 'max_delta_step': 1,\n",
    " 'objective': 'multi:softmax',\n",
    " 'nthread': 1,\n",
    " }"
   ]
  },
  {
   "cell_type": "code",
   "execution_count": 150,
   "metadata": {},
   "outputs": [],
   "source": [
    "filename = 'xgboostparam_model.sav'\n",
    "pickle.dump(model, open(filename, 'wb'))\n"
   ]
  },
  {
   "cell_type": "code",
   "execution_count": 151,
   "metadata": {},
   "outputs": [
    {
     "data": {
      "text/plain": [
       "XGBClassifier(base_score=0.5, booster='gbtree', colsample_bylevel=1,\n",
       "              colsample_bynode=1, colsample_bytree=1, gamma=0,\n",
       "              learning_rate=0.1, max_delta_step=0, max_depth=3,\n",
       "              min_child_weight=1, missing=nan, n_estimators=100, n_jobs=1,\n",
       "              nthread=None, objective='multi:softprob', random_state=0,\n",
       "              reg_alpha=0, reg_lambda=1, scale_pos_weight=1, seed=None,\n",
       "              silent=None, subsample=1, verbosity=1)"
      ]
     },
     "execution_count": 151,
     "metadata": {},
     "output_type": "execute_result"
    }
   ],
   "source": [
    "loaded_model = pickle.load(open(filename, 'rb'))\n",
    "loaded_model.fit(X_train,y_train)"
   ]
  },
  {
   "cell_type": "code",
   "execution_count": 152,
   "metadata": {},
   "outputs": [],
   "source": [
    "y_pred=loaded_model.predict_proba(X_test)"
   ]
  },
  {
   "cell_type": "code",
   "execution_count": 153,
   "metadata": {},
   "outputs": [
    {
     "name": "stdout",
     "output_type": "stream",
     "text": [
      "0.8691580911528276\n"
     ]
    }
   ],
   "source": [
    "print (log_loss(y_test,y_pred));"
   ]
  },
  {
   "cell_type": "markdown",
   "metadata": {},
   "source": [
    "# Naive Bayes"
   ]
  },
  {
   "cell_type": "code",
   "execution_count": 174,
   "metadata": {},
   "outputs": [],
   "source": [
    "from sklearn.feature_selection import RFE\n",
    "from sklearn.naive_bayes import GaussianNB\n",
    "nv = GaussianNB()\n"
   ]
  },
  {
   "cell_type": "code",
   "execution_count": 175,
   "metadata": {},
   "outputs": [],
   "source": [
    "filename = 'naive_model.sav'\n",
    "pickle.dump(nv, open(filename, 'wb'))\n"
   ]
  },
  {
   "cell_type": "code",
   "execution_count": 176,
   "metadata": {},
   "outputs": [
    {
     "data": {
      "text/plain": [
       "GaussianNB(priors=None, var_smoothing=1e-09)"
      ]
     },
     "execution_count": 176,
     "metadata": {},
     "output_type": "execute_result"
    }
   ],
   "source": [
    "loaded_model = pickle.load(open(filename, 'rb'))\n",
    "loaded_model.fit(X_train,y_train)"
   ]
  },
  {
   "cell_type": "code",
   "execution_count": 177,
   "metadata": {},
   "outputs": [],
   "source": [
    "y_pred=loaded_model.predict_proba(X_test)"
   ]
  },
  {
   "cell_type": "code",
   "execution_count": 178,
   "metadata": {},
   "outputs": [
    {
     "data": {
      "text/plain": [
       "1.0993156117806615"
      ]
     },
     "execution_count": 178,
     "metadata": {},
     "output_type": "execute_result"
    }
   ],
   "source": [
    "ll = log_loss(y_test,y_pred)\n",
    "ll"
   ]
  },
  {
   "cell_type": "markdown",
   "metadata": {},
   "source": [
    "# LightGBM"
   ]
  },
  {
   "cell_type": "code",
   "execution_count": 171,
   "metadata": {},
   "outputs": [
    {
     "data": {
      "text/plain": [
       "array([1, 5, 2, 4, 1, 3, 1, 1, 1])"
      ]
     },
     "execution_count": 171,
     "metadata": {},
     "output_type": "execute_result"
    }
   ],
   "source": [
    "from lightgbm import LGBMClassifier\n",
    "from sklearn.feature_selection import RFE\n",
    "lgbm = LGBMClassifier(objective='multiclass', random_state=5)\n",
    "selector = RFE(lgbm, 5, step=1)\n",
    "selector=selector.fit(X, y)\n",
    "selector.support_\n",
    "selector.ranking_"
   ]
  },
  {
   "cell_type": "code",
   "execution_count": 160,
   "metadata": {},
   "outputs": [],
   "source": [
    "filename = 'lgbm_model.sav'\n",
    "pickle.dump(lgbm, open(filename, 'wb'))"
   ]
  },
  {
   "cell_type": "code",
   "execution_count": 161,
   "metadata": {},
   "outputs": [
    {
     "data": {
      "text/plain": [
       "LGBMClassifier(boosting_type='gbdt', class_weight=None, colsample_bytree=1.0,\n",
       "               importance_type='split', learning_rate=0.1, max_depth=-1,\n",
       "               min_child_samples=20, min_child_weight=0.001, min_split_gain=0.0,\n",
       "               n_estimators=100, n_jobs=-1, num_leaves=31,\n",
       "               objective='multiclass', random_state=5, reg_alpha=0.0,\n",
       "               reg_lambda=0.0, silent=True, subsample=1.0,\n",
       "               subsample_for_bin=200000, subsample_freq=0)"
      ]
     },
     "execution_count": 161,
     "metadata": {},
     "output_type": "execute_result"
    }
   ],
   "source": [
    "lgbmm = pickle.load(open(filename, 'rb'))\n",
    "lgbmm.fit(X_train,y_train)"
   ]
  },
  {
   "cell_type": "code",
   "execution_count": 162,
   "metadata": {},
   "outputs": [],
   "source": [
    "y_pred=lgbmm.predict_proba(X_test)"
   ]
  },
  {
   "cell_type": "code",
   "execution_count": 163,
   "metadata": {},
   "outputs": [
    {
     "data": {
      "text/plain": [
       "0.8537600402307091"
      ]
     },
     "execution_count": 163,
     "metadata": {},
     "output_type": "execute_result"
    }
   ],
   "source": [
    "ll=log_loss(y_test,y_pred)\n",
    "ll"
   ]
  },
  {
   "cell_type": "markdown",
   "metadata": {},
   "source": [
    "# Random Forest"
   ]
  },
  {
   "cell_type": "code",
   "execution_count": 172,
   "metadata": {},
   "outputs": [
    {
     "data": {
      "text/plain": [
       "array([1, 4, 1, 1, 2, 3, 5, 1, 1])"
      ]
     },
     "execution_count": 172,
     "metadata": {},
     "output_type": "execute_result"
    }
   ],
   "source": [
    "from sklearn.feature_selection import RFE\n",
    "from sklearn.ensemble import RandomForestClassifier\n",
    "clf = RandomForestClassifier(max_depth=4,n_estimators =20,criterion = 'entropy',random_state = 0)\n",
    "selector = RFE(clf, 5, step=1)\n",
    "selector = selector.fit(X, y)\n",
    "selector.support_\n",
    "selector.ranking_"
   ]
  },
  {
   "cell_type": "code",
   "execution_count": 165,
   "metadata": {},
   "outputs": [
    {
     "data": {
      "text/plain": [
       "RandomForestClassifier(bootstrap=True, class_weight=None, criterion='entropy',\n",
       "                       max_depth=10, max_features='auto', max_leaf_nodes=None,\n",
       "                       min_impurity_decrease=0.0, min_impurity_split=None,\n",
       "                       min_samples_leaf=1, min_samples_split=2,\n",
       "                       min_weight_fraction_leaf=0.0, n_estimators=30,\n",
       "                       n_jobs=None, oob_score=False, random_state=0, verbose=0,\n",
       "                       warm_start=False)"
      ]
     },
     "execution_count": 165,
     "metadata": {},
     "output_type": "execute_result"
    }
   ],
   "source": [
    "from sklearn.ensemble import RandomForestClassifier\n",
    "clf = RandomForestClassifier(max_depth=10,n_estimators =30,criterion = 'entropy',random_state = 0)\n",
    "clf.fit(X_train,y_train)\n"
   ]
  },
  {
   "cell_type": "code",
   "execution_count": 166,
   "metadata": {},
   "outputs": [],
   "source": [
    "filename = 'random_model.sav'\n",
    "pickle.dump(clf, open(filename, 'wb'))\n"
   ]
  },
  {
   "cell_type": "code",
   "execution_count": 167,
   "metadata": {},
   "outputs": [],
   "source": [
    "loaded_model = pickle.load(open(filename, 'rb'))\n",
    "y_pred=loaded_model.predict_proba(X_test)"
   ]
  },
  {
   "cell_type": "code",
   "execution_count": 168,
   "metadata": {},
   "outputs": [
    {
     "data": {
      "text/plain": [
       "0.8705385613374071"
      ]
     },
     "execution_count": 168,
     "metadata": {},
     "output_type": "execute_result"
    }
   ],
   "source": [
    "ll=log_loss(y_test,y_pred)\n",
    "ll"
   ]
  }
 ],
 "metadata": {
  "kernelspec": {
   "display_name": "Python 3",
   "language": "python",
   "name": "python3"
  },
  "language_info": {
   "codemirror_mode": {
    "name": "ipython",
    "version": 3
   },
   "file_extension": ".py",
   "mimetype": "text/x-python",
   "name": "python",
   "nbconvert_exporter": "python",
   "pygments_lexer": "ipython3",
   "version": "3.7.3"
  }
 },
 "nbformat": 4,
 "nbformat_minor": 2
}
